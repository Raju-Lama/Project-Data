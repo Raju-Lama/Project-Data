{
 "cells": [
  {
   "cell_type": "markdown",
   "metadata": {
    "jupyter": {
     "outputs_hidden": true
    }
   },
   "source": [
    "# Star Wars Survey"
   ]
  },
  {
   "cell_type": "markdown",
   "metadata": {},
   "source": [
    "## Table of Contents\n",
    "\n",
    "- [Introduction](#intro)\n",
    "- [Read the dataset](#data)\n",
    "- [Cleaning and Mapping Yes/No Columns](#clean)\n",
    "- [Cleaning and Mapping Checkbox Columns](#checkbox)\n",
    "- [Cleaning the Ranking Columns](#rank)\n",
    "- [Finding the Highest-Ranked Movie](#high)\n",
    "- [Finding the Most Viewed Movie](#view)\n",
    "- [Exploring the Data by Binary Segments](#bin)\n",
    "- [Exploring dataset by Male category ](#male)\n",
    "- [Exploring dataset by Female category ](#female)\n",
    "- [The Favorite Character in Star Wars](#fav)\n",
    "- []()\n",
    "- []()\n",
    "- []()\n",
    "- []()\n",
    "- []()\n",
    "- []()\n",
    "- []()\n",
    "- []()\n",
    "- []()"
   ]
  },
  {
   "cell_type": "markdown",
   "metadata": {
    "tags": []
   },
   "source": [
    "# Introduction<a id=\"intro\"></a>"
   ]
  },
  {
   "cell_type": "markdown",
   "metadata": {},
   "source": [
    "Which is the best [Star Wars](https://en.wikipedia.org/wiki/Star_Wars) movie?\n",
    "\n",
    "While waiting for [Star Wars: The Force Awakens](https://en.wikipedia.org/wiki/Star_Wars:_The_Force_Awakens) to come out, the team at [FiveThirtyEight](https://fivethirtyeight.com/features/americas-favorite-star-wars-movies-and-least-favorite-characters/) became interested in answering some questions about Star Wars fans. In particular, they wondered: **does the rest of America realize that “The Empire Strikes Back” is clearly the best of the bunch?**\n",
    "\n",
    "The team needed to collect data addressing this question. To do this, they surveyed Star Wars fans using the online tool SurveyMonkey. They received 835 total responses, which you can download from [their GitHub repository](https://github.com/fivethirtyeight/data/tree/master/star-wars-survey).\n",
    "\n",
    "We will clean the data and find the relevant answers to this question in this project!"
   ]
  },
  {
   "cell_type": "markdown",
   "metadata": {},
   "source": [
    "# Read the dataset <a id=\"data\"></a>"
   ]
  },
  {
   "cell_type": "code",
   "execution_count": 150,
   "metadata": {},
   "outputs": [],
   "source": [
    "# importing modules we need\n",
    "import pandas as pd\n",
    "import numpy as np\n",
    "import matplotlib.pyplot as plt\n",
    "%matplotlib inline\n",
    "# we need matplotlib inlined along with codes, not in a new page\n",
    "import re"
   ]
  },
  {
   "cell_type": "code",
   "execution_count": 151,
   "metadata": {},
   "outputs": [
    {
     "data": {
      "text/html": [
       "<div>\n",
       "<style scoped>\n",
       "    .dataframe tbody tr th:only-of-type {\n",
       "        vertical-align: middle;\n",
       "    }\n",
       "\n",
       "    .dataframe tbody tr th {\n",
       "        vertical-align: top;\n",
       "    }\n",
       "\n",
       "    .dataframe thead th {\n",
       "        text-align: right;\n",
       "    }\n",
       "</style>\n",
       "<table border=\"1\" class=\"dataframe\">\n",
       "  <thead>\n",
       "    <tr style=\"text-align: right;\">\n",
       "      <th></th>\n",
       "      <th>RespondentID</th>\n",
       "      <th>Have you seen any of the 6 films in the Star Wars franchise?</th>\n",
       "      <th>Do you consider yourself to be a fan of the Star Wars film franchise?</th>\n",
       "      <th>Which of the following Star Wars films have you seen? Please select all that apply.</th>\n",
       "      <th>Unnamed: 4</th>\n",
       "      <th>Unnamed: 5</th>\n",
       "      <th>Unnamed: 6</th>\n",
       "      <th>Unnamed: 7</th>\n",
       "      <th>Unnamed: 8</th>\n",
       "      <th>Please rank the Star Wars films in order of preference with 1 being your favorite film in the franchise and 6 being your least favorite film.</th>\n",
       "      <th>...</th>\n",
       "      <th>Unnamed: 28</th>\n",
       "      <th>Which character shot first?</th>\n",
       "      <th>Are you familiar with the Expanded Universe?</th>\n",
       "      <th>Do you consider yourself to be a fan of the Expanded Universe?</th>\n",
       "      <th>Do you consider yourself to be a fan of the Star Trek franchise?</th>\n",
       "      <th>Gender</th>\n",
       "      <th>Age</th>\n",
       "      <th>Household Income</th>\n",
       "      <th>Education</th>\n",
       "      <th>Location (Census Region)</th>\n",
       "    </tr>\n",
       "  </thead>\n",
       "  <tbody>\n",
       "    <tr>\n",
       "      <th>0</th>\n",
       "      <td>3292879998</td>\n",
       "      <td>Yes</td>\n",
       "      <td>Yes</td>\n",
       "      <td>Star Wars: Episode I  The Phantom Menace</td>\n",
       "      <td>Star Wars: Episode II  Attack of the Clones</td>\n",
       "      <td>Star Wars: Episode III  Revenge of the Sith</td>\n",
       "      <td>Star Wars: Episode IV  A New Hope</td>\n",
       "      <td>Star Wars: Episode V The Empire Strikes Back</td>\n",
       "      <td>Star Wars: Episode VI Return of the Jedi</td>\n",
       "      <td>3.0</td>\n",
       "      <td>...</td>\n",
       "      <td>Very favorably</td>\n",
       "      <td>I don't understand this question</td>\n",
       "      <td>Yes</td>\n",
       "      <td>No</td>\n",
       "      <td>No</td>\n",
       "      <td>Male</td>\n",
       "      <td>18-29</td>\n",
       "      <td>NaN</td>\n",
       "      <td>High school degree</td>\n",
       "      <td>South Atlantic</td>\n",
       "    </tr>\n",
       "    <tr>\n",
       "      <th>1</th>\n",
       "      <td>3292879538</td>\n",
       "      <td>No</td>\n",
       "      <td>NaN</td>\n",
       "      <td>NaN</td>\n",
       "      <td>NaN</td>\n",
       "      <td>NaN</td>\n",
       "      <td>NaN</td>\n",
       "      <td>NaN</td>\n",
       "      <td>NaN</td>\n",
       "      <td>NaN</td>\n",
       "      <td>...</td>\n",
       "      <td>NaN</td>\n",
       "      <td>NaN</td>\n",
       "      <td>NaN</td>\n",
       "      <td>NaN</td>\n",
       "      <td>Yes</td>\n",
       "      <td>Male</td>\n",
       "      <td>18-29</td>\n",
       "      <td>$0 - $24,999</td>\n",
       "      <td>Bachelor degree</td>\n",
       "      <td>West South Central</td>\n",
       "    </tr>\n",
       "    <tr>\n",
       "      <th>2</th>\n",
       "      <td>3292765271</td>\n",
       "      <td>Yes</td>\n",
       "      <td>No</td>\n",
       "      <td>Star Wars: Episode I  The Phantom Menace</td>\n",
       "      <td>Star Wars: Episode II  Attack of the Clones</td>\n",
       "      <td>Star Wars: Episode III  Revenge of the Sith</td>\n",
       "      <td>NaN</td>\n",
       "      <td>NaN</td>\n",
       "      <td>NaN</td>\n",
       "      <td>1.0</td>\n",
       "      <td>...</td>\n",
       "      <td>Unfamiliar (N/A)</td>\n",
       "      <td>I don't understand this question</td>\n",
       "      <td>No</td>\n",
       "      <td>NaN</td>\n",
       "      <td>No</td>\n",
       "      <td>Male</td>\n",
       "      <td>18-29</td>\n",
       "      <td>$0 - $24,999</td>\n",
       "      <td>High school degree</td>\n",
       "      <td>West North Central</td>\n",
       "    </tr>\n",
       "    <tr>\n",
       "      <th>3</th>\n",
       "      <td>3292763116</td>\n",
       "      <td>Yes</td>\n",
       "      <td>Yes</td>\n",
       "      <td>Star Wars: Episode I  The Phantom Menace</td>\n",
       "      <td>Star Wars: Episode II  Attack of the Clones</td>\n",
       "      <td>Star Wars: Episode III  Revenge of the Sith</td>\n",
       "      <td>Star Wars: Episode IV  A New Hope</td>\n",
       "      <td>Star Wars: Episode V The Empire Strikes Back</td>\n",
       "      <td>Star Wars: Episode VI Return of the Jedi</td>\n",
       "      <td>5.0</td>\n",
       "      <td>...</td>\n",
       "      <td>Very favorably</td>\n",
       "      <td>I don't understand this question</td>\n",
       "      <td>No</td>\n",
       "      <td>NaN</td>\n",
       "      <td>Yes</td>\n",
       "      <td>Male</td>\n",
       "      <td>18-29</td>\n",
       "      <td>$100,000 - $149,999</td>\n",
       "      <td>Some college or Associate degree</td>\n",
       "      <td>West North Central</td>\n",
       "    </tr>\n",
       "    <tr>\n",
       "      <th>4</th>\n",
       "      <td>3292731220</td>\n",
       "      <td>Yes</td>\n",
       "      <td>Yes</td>\n",
       "      <td>Star Wars: Episode I  The Phantom Menace</td>\n",
       "      <td>Star Wars: Episode II  Attack of the Clones</td>\n",
       "      <td>Star Wars: Episode III  Revenge of the Sith</td>\n",
       "      <td>Star Wars: Episode IV  A New Hope</td>\n",
       "      <td>Star Wars: Episode V The Empire Strikes Back</td>\n",
       "      <td>Star Wars: Episode VI Return of the Jedi</td>\n",
       "      <td>5.0</td>\n",
       "      <td>...</td>\n",
       "      <td>Somewhat favorably</td>\n",
       "      <td>Greedo</td>\n",
       "      <td>Yes</td>\n",
       "      <td>No</td>\n",
       "      <td>No</td>\n",
       "      <td>Male</td>\n",
       "      <td>18-29</td>\n",
       "      <td>$100,000 - $149,999</td>\n",
       "      <td>Some college or Associate degree</td>\n",
       "      <td>West North Central</td>\n",
       "    </tr>\n",
       "    <tr>\n",
       "      <th>5</th>\n",
       "      <td>3292719380</td>\n",
       "      <td>Yes</td>\n",
       "      <td>Yes</td>\n",
       "      <td>Star Wars: Episode I  The Phantom Menace</td>\n",
       "      <td>Star Wars: Episode II  Attack of the Clones</td>\n",
       "      <td>Star Wars: Episode III  Revenge of the Sith</td>\n",
       "      <td>Star Wars: Episode IV  A New Hope</td>\n",
       "      <td>Star Wars: Episode V The Empire Strikes Back</td>\n",
       "      <td>Star Wars: Episode VI Return of the Jedi</td>\n",
       "      <td>1.0</td>\n",
       "      <td>...</td>\n",
       "      <td>Very favorably</td>\n",
       "      <td>Han</td>\n",
       "      <td>Yes</td>\n",
       "      <td>No</td>\n",
       "      <td>Yes</td>\n",
       "      <td>Male</td>\n",
       "      <td>18-29</td>\n",
       "      <td>$25,000 - $49,999</td>\n",
       "      <td>Bachelor degree</td>\n",
       "      <td>Middle Atlantic</td>\n",
       "    </tr>\n",
       "    <tr>\n",
       "      <th>6</th>\n",
       "      <td>3292684787</td>\n",
       "      <td>Yes</td>\n",
       "      <td>Yes</td>\n",
       "      <td>Star Wars: Episode I  The Phantom Menace</td>\n",
       "      <td>Star Wars: Episode II  Attack of the Clones</td>\n",
       "      <td>Star Wars: Episode III  Revenge of the Sith</td>\n",
       "      <td>Star Wars: Episode IV  A New Hope</td>\n",
       "      <td>Star Wars: Episode V The Empire Strikes Back</td>\n",
       "      <td>Star Wars: Episode VI Return of the Jedi</td>\n",
       "      <td>6.0</td>\n",
       "      <td>...</td>\n",
       "      <td>Very favorably</td>\n",
       "      <td>Han</td>\n",
       "      <td>Yes</td>\n",
       "      <td>No</td>\n",
       "      <td>No</td>\n",
       "      <td>Male</td>\n",
       "      <td>18-29</td>\n",
       "      <td>NaN</td>\n",
       "      <td>High school degree</td>\n",
       "      <td>East North Central</td>\n",
       "    </tr>\n",
       "    <tr>\n",
       "      <th>7</th>\n",
       "      <td>3292663732</td>\n",
       "      <td>Yes</td>\n",
       "      <td>Yes</td>\n",
       "      <td>Star Wars: Episode I  The Phantom Menace</td>\n",
       "      <td>Star Wars: Episode II  Attack of the Clones</td>\n",
       "      <td>Star Wars: Episode III  Revenge of the Sith</td>\n",
       "      <td>Star Wars: Episode IV  A New Hope</td>\n",
       "      <td>Star Wars: Episode V The Empire Strikes Back</td>\n",
       "      <td>Star Wars: Episode VI Return of the Jedi</td>\n",
       "      <td>4.0</td>\n",
       "      <td>...</td>\n",
       "      <td>Very favorably</td>\n",
       "      <td>Han</td>\n",
       "      <td>No</td>\n",
       "      <td>NaN</td>\n",
       "      <td>Yes</td>\n",
       "      <td>Male</td>\n",
       "      <td>18-29</td>\n",
       "      <td>NaN</td>\n",
       "      <td>High school degree</td>\n",
       "      <td>South Atlantic</td>\n",
       "    </tr>\n",
       "    <tr>\n",
       "      <th>8</th>\n",
       "      <td>3292654043</td>\n",
       "      <td>Yes</td>\n",
       "      <td>Yes</td>\n",
       "      <td>Star Wars: Episode I  The Phantom Menace</td>\n",
       "      <td>Star Wars: Episode II  Attack of the Clones</td>\n",
       "      <td>Star Wars: Episode III  Revenge of the Sith</td>\n",
       "      <td>Star Wars: Episode IV  A New Hope</td>\n",
       "      <td>Star Wars: Episode V The Empire Strikes Back</td>\n",
       "      <td>Star Wars: Episode VI Return of the Jedi</td>\n",
       "      <td>5.0</td>\n",
       "      <td>...</td>\n",
       "      <td>Somewhat favorably</td>\n",
       "      <td>Han</td>\n",
       "      <td>No</td>\n",
       "      <td>NaN</td>\n",
       "      <td>No</td>\n",
       "      <td>Male</td>\n",
       "      <td>18-29</td>\n",
       "      <td>$0 - $24,999</td>\n",
       "      <td>Some college or Associate degree</td>\n",
       "      <td>South Atlantic</td>\n",
       "    </tr>\n",
       "    <tr>\n",
       "      <th>9</th>\n",
       "      <td>3292640424</td>\n",
       "      <td>Yes</td>\n",
       "      <td>No</td>\n",
       "      <td>NaN</td>\n",
       "      <td>Star Wars: Episode II  Attack of the Clones</td>\n",
       "      <td>NaN</td>\n",
       "      <td>NaN</td>\n",
       "      <td>NaN</td>\n",
       "      <td>NaN</td>\n",
       "      <td>1.0</td>\n",
       "      <td>...</td>\n",
       "      <td>Very favorably</td>\n",
       "      <td>I don't understand this question</td>\n",
       "      <td>No</td>\n",
       "      <td>NaN</td>\n",
       "      <td>No</td>\n",
       "      <td>Male</td>\n",
       "      <td>18-29</td>\n",
       "      <td>$25,000 - $49,999</td>\n",
       "      <td>Some college or Associate degree</td>\n",
       "      <td>Pacific</td>\n",
       "    </tr>\n",
       "  </tbody>\n",
       "</table>\n",
       "<p>10 rows × 38 columns</p>\n",
       "</div>"
      ],
      "text/plain": [
       "   RespondentID Have you seen any of the 6 films in the Star Wars franchise?  \\\n",
       "0    3292879998                                                Yes             \n",
       "1    3292879538                                                 No             \n",
       "2    3292765271                                                Yes             \n",
       "3    3292763116                                                Yes             \n",
       "4    3292731220                                                Yes             \n",
       "5    3292719380                                                Yes             \n",
       "6    3292684787                                                Yes             \n",
       "7    3292663732                                                Yes             \n",
       "8    3292654043                                                Yes             \n",
       "9    3292640424                                                Yes             \n",
       "\n",
       "  Do you consider yourself to be a fan of the Star Wars film franchise?  \\\n",
       "0                                                Yes                      \n",
       "1                                                NaN                      \n",
       "2                                                 No                      \n",
       "3                                                Yes                      \n",
       "4                                                Yes                      \n",
       "5                                                Yes                      \n",
       "6                                                Yes                      \n",
       "7                                                Yes                      \n",
       "8                                                Yes                      \n",
       "9                                                 No                      \n",
       "\n",
       "  Which of the following Star Wars films have you seen? Please select all that apply.  \\\n",
       "0           Star Wars: Episode I  The Phantom Menace                                    \n",
       "1                                                NaN                                    \n",
       "2           Star Wars: Episode I  The Phantom Menace                                    \n",
       "3           Star Wars: Episode I  The Phantom Menace                                    \n",
       "4           Star Wars: Episode I  The Phantom Menace                                    \n",
       "5           Star Wars: Episode I  The Phantom Menace                                    \n",
       "6           Star Wars: Episode I  The Phantom Menace                                    \n",
       "7           Star Wars: Episode I  The Phantom Menace                                    \n",
       "8           Star Wars: Episode I  The Phantom Menace                                    \n",
       "9                                                NaN                                    \n",
       "\n",
       "                                    Unnamed: 4  \\\n",
       "0  Star Wars: Episode II  Attack of the Clones   \n",
       "1                                          NaN   \n",
       "2  Star Wars: Episode II  Attack of the Clones   \n",
       "3  Star Wars: Episode II  Attack of the Clones   \n",
       "4  Star Wars: Episode II  Attack of the Clones   \n",
       "5  Star Wars: Episode II  Attack of the Clones   \n",
       "6  Star Wars: Episode II  Attack of the Clones   \n",
       "7  Star Wars: Episode II  Attack of the Clones   \n",
       "8  Star Wars: Episode II  Attack of the Clones   \n",
       "9  Star Wars: Episode II  Attack of the Clones   \n",
       "\n",
       "                                    Unnamed: 5  \\\n",
       "0  Star Wars: Episode III  Revenge of the Sith   \n",
       "1                                          NaN   \n",
       "2  Star Wars: Episode III  Revenge of the Sith   \n",
       "3  Star Wars: Episode III  Revenge of the Sith   \n",
       "4  Star Wars: Episode III  Revenge of the Sith   \n",
       "5  Star Wars: Episode III  Revenge of the Sith   \n",
       "6  Star Wars: Episode III  Revenge of the Sith   \n",
       "7  Star Wars: Episode III  Revenge of the Sith   \n",
       "8  Star Wars: Episode III  Revenge of the Sith   \n",
       "9                                          NaN   \n",
       "\n",
       "                          Unnamed: 6  \\\n",
       "0  Star Wars: Episode IV  A New Hope   \n",
       "1                                NaN   \n",
       "2                                NaN   \n",
       "3  Star Wars: Episode IV  A New Hope   \n",
       "4  Star Wars: Episode IV  A New Hope   \n",
       "5  Star Wars: Episode IV  A New Hope   \n",
       "6  Star Wars: Episode IV  A New Hope   \n",
       "7  Star Wars: Episode IV  A New Hope   \n",
       "8  Star Wars: Episode IV  A New Hope   \n",
       "9                                NaN   \n",
       "\n",
       "                                     Unnamed: 7  \\\n",
       "0  Star Wars: Episode V The Empire Strikes Back   \n",
       "1                                           NaN   \n",
       "2                                           NaN   \n",
       "3  Star Wars: Episode V The Empire Strikes Back   \n",
       "4  Star Wars: Episode V The Empire Strikes Back   \n",
       "5  Star Wars: Episode V The Empire Strikes Back   \n",
       "6  Star Wars: Episode V The Empire Strikes Back   \n",
       "7  Star Wars: Episode V The Empire Strikes Back   \n",
       "8  Star Wars: Episode V The Empire Strikes Back   \n",
       "9                                           NaN   \n",
       "\n",
       "                                 Unnamed: 8  \\\n",
       "0  Star Wars: Episode VI Return of the Jedi   \n",
       "1                                       NaN   \n",
       "2                                       NaN   \n",
       "3  Star Wars: Episode VI Return of the Jedi   \n",
       "4  Star Wars: Episode VI Return of the Jedi   \n",
       "5  Star Wars: Episode VI Return of the Jedi   \n",
       "6  Star Wars: Episode VI Return of the Jedi   \n",
       "7  Star Wars: Episode VI Return of the Jedi   \n",
       "8  Star Wars: Episode VI Return of the Jedi   \n",
       "9                                       NaN   \n",
       "\n",
       "   Please rank the Star Wars films in order of preference with 1 being your favorite film in the franchise and 6 being your least favorite film.  \\\n",
       "0                                                3.0                                                                                               \n",
       "1                                                NaN                                                                                               \n",
       "2                                                1.0                                                                                               \n",
       "3                                                5.0                                                                                               \n",
       "4                                                5.0                                                                                               \n",
       "5                                                1.0                                                                                               \n",
       "6                                                6.0                                                                                               \n",
       "7                                                4.0                                                                                               \n",
       "8                                                5.0                                                                                               \n",
       "9                                                1.0                                                                                               \n",
       "\n",
       "   ...         Unnamed: 28       Which character shot first?  \\\n",
       "0  ...      Very favorably  I don't understand this question   \n",
       "1  ...                 NaN                               NaN   \n",
       "2  ...    Unfamiliar (N/A)  I don't understand this question   \n",
       "3  ...      Very favorably  I don't understand this question   \n",
       "4  ...  Somewhat favorably                            Greedo   \n",
       "5  ...      Very favorably                               Han   \n",
       "6  ...      Very favorably                               Han   \n",
       "7  ...      Very favorably                               Han   \n",
       "8  ...  Somewhat favorably                               Han   \n",
       "9  ...      Very favorably  I don't understand this question   \n",
       "\n",
       "   Are you familiar with the Expanded Universe?  \\\n",
       "0                                           Yes   \n",
       "1                                           NaN   \n",
       "2                                            No   \n",
       "3                                            No   \n",
       "4                                           Yes   \n",
       "5                                           Yes   \n",
       "6                                           Yes   \n",
       "7                                            No   \n",
       "8                                            No   \n",
       "9                                            No   \n",
       "\n",
       "   Do you consider yourself to be a fan of the Expanded Universe?  \\\n",
       "0                                                 No                \n",
       "1                                                NaN                \n",
       "2                                                NaN                \n",
       "3                                                NaN                \n",
       "4                                                 No                \n",
       "5                                                 No                \n",
       "6                                                 No                \n",
       "7                                                NaN                \n",
       "8                                                NaN                \n",
       "9                                                NaN                \n",
       "\n",
       "   Do you consider yourself to be a fan of the Star Trek franchise? Gender  \\\n",
       "0                                                 No                  Male   \n",
       "1                                                Yes                  Male   \n",
       "2                                                 No                  Male   \n",
       "3                                                Yes                  Male   \n",
       "4                                                 No                  Male   \n",
       "5                                                Yes                  Male   \n",
       "6                                                 No                  Male   \n",
       "7                                                Yes                  Male   \n",
       "8                                                 No                  Male   \n",
       "9                                                 No                  Male   \n",
       "\n",
       "     Age     Household Income                         Education  \\\n",
       "0  18-29                  NaN                High school degree   \n",
       "1  18-29         $0 - $24,999                   Bachelor degree   \n",
       "2  18-29         $0 - $24,999                High school degree   \n",
       "3  18-29  $100,000 - $149,999  Some college or Associate degree   \n",
       "4  18-29  $100,000 - $149,999  Some college or Associate degree   \n",
       "5  18-29    $25,000 - $49,999                   Bachelor degree   \n",
       "6  18-29                  NaN                High school degree   \n",
       "7  18-29                  NaN                High school degree   \n",
       "8  18-29         $0 - $24,999  Some college or Associate degree   \n",
       "9  18-29    $25,000 - $49,999  Some college or Associate degree   \n",
       "\n",
       "  Location (Census Region)  \n",
       "0           South Atlantic  \n",
       "1       West South Central  \n",
       "2       West North Central  \n",
       "3       West North Central  \n",
       "4       West North Central  \n",
       "5          Middle Atlantic  \n",
       "6       East North Central  \n",
       "7           South Atlantic  \n",
       "8           South Atlantic  \n",
       "9                  Pacific  \n",
       "\n",
       "[10 rows x 38 columns]"
      ]
     },
     "execution_count": 151,
     "metadata": {},
     "output_type": "execute_result"
    }
   ],
   "source": [
    "star_wars = pd.read_csv(\"star_wars.csv\", encoding=\"ISO-8859-1\")\n",
    "# Reading the data into pandas dataframe\n",
    "# specify this encoding because some characters aren't in Python's default utf-8 encoding.'\n",
    "# read more about encoading on developer Joel Spolsky's blog\n",
    "# https://www.joelonsoftware.com/2003/10/08/the-absolute-minimum-every-software-developer-absolutely-positively-must-know-about-unicode-and-character-sets-no-excuses/\n",
    "\n",
    "star_wars.head(10)"
   ]
  },
  {
   "cell_type": "code",
   "execution_count": 152,
   "metadata": {},
   "outputs": [
    {
     "data": {
      "text/plain": [
       "Index(['RespondentID',\n",
       "       'Have you seen any of the 6 films in the Star Wars franchise?',\n",
       "       'Do you consider yourself to be a fan of the Star Wars film franchise?',\n",
       "       'Which of the following Star Wars films have you seen? Please select all that apply.',\n",
       "       'Unnamed: 4', 'Unnamed: 5', 'Unnamed: 6', 'Unnamed: 7', 'Unnamed: 8',\n",
       "       'Please rank the Star Wars films in order of preference with 1 being your favorite film in the franchise and 6 being your least favorite film.',\n",
       "       'Unnamed: 10', 'Unnamed: 11', 'Unnamed: 12', 'Unnamed: 13',\n",
       "       'Unnamed: 14',\n",
       "       'Please state whether you view the following characters favorably, unfavorably, or are unfamiliar with him/her.',\n",
       "       'Unnamed: 16', 'Unnamed: 17', 'Unnamed: 18', 'Unnamed: 19',\n",
       "       'Unnamed: 20', 'Unnamed: 21', 'Unnamed: 22', 'Unnamed: 23',\n",
       "       'Unnamed: 24', 'Unnamed: 25', 'Unnamed: 26', 'Unnamed: 27',\n",
       "       'Unnamed: 28', 'Which character shot first?',\n",
       "       'Are you familiar with the Expanded Universe?',\n",
       "       'Do you consider yourself to be a fan of the Expanded Universe?',\n",
       "       'Do you consider yourself to be a fan of the Star Trek franchise?',\n",
       "       'Gender', 'Age', 'Household Income', 'Education',\n",
       "       'Location (Census Region)'],\n",
       "      dtype='object')"
      ]
     },
     "execution_count": 152,
     "metadata": {},
     "output_type": "execute_result"
    }
   ],
   "source": [
    "star_wars.columns"
   ]
  },
  {
   "cell_type": "code",
   "execution_count": 153,
   "metadata": {},
   "outputs": [
    {
     "data": {
      "text/plain": [
       "(1186, 38)"
      ]
     },
     "execution_count": 153,
     "metadata": {},
     "output_type": "execute_result"
    }
   ],
   "source": [
    "star_wars.shape"
   ]
  },
  {
   "cell_type": "markdown",
   "metadata": {},
   "source": [
    "We can see that there are 1186 rows and 38 columns in the dataset."
   ]
  },
  {
   "cell_type": "markdown",
   "metadata": {},
   "source": [
    "Some columns are:\n",
    "\n",
    "- `RespondentID` — An anonymized ID for the respondent (person taking the survey)\n",
    "- `Gender` — the respondent's gender\n",
    "- `Age` — the respondent's age\n",
    "- `Household Income` — the respondent's income\n",
    "- `Education` — the respondent's education level\n",
    "- `Location (Census Region)` — the respondent's location\n",
    "- `Have you seen any of the 6 films in the Star Wars franchise?` — a Yes or No response\n",
    "- `Do you consider yourself to be a fan of the Star Wars film franchise?` — a Yes or No response"
   ]
  },
  {
   "cell_type": "markdown",
   "metadata": {},
   "source": [
    "#  Cleaning and Mapping Yes/No Columns<a id=\"clean\"></a>"
   ]
  },
  {
   "cell_type": "markdown",
   "metadata": {},
   "source": [
    "First lets look at two columns:\n",
    "\n",
    "- Have you seen any of the 6 films in the Star Wars franchise?\n",
    "- Do you consider yourself to be a fan of the Star Wars film franchise?\n",
    "\n",
    "Both represent `Yes/No` questions. They can also be `NaN` where a respondent chooses not to answer a question. We can use the [pandas.Series.value_counts()](https://pandas.pydata.org/pandas-docs/stable/reference/api/pandas.Series.value_counts.html) method on a series to see all of the unique values in a column, along with the total number of times each value appears.\n",
    "\n",
    "Both columns are currently string types, because the main values they contain are `Yes` and `No`. We can make the data a bit easier to analyze later by converting each column to a Boolean with only the values `True`, `False`, and `NaN`. Booleans are easier to work with because we can select the rows that are `True` or `False` without having to do a string comparison.\n",
    "\n",
    "We can use the [pandas.Series.map()](https://pandas.pydata.org/pandas-docs/stable/reference/api/pandas.Series.map.html) method on series objects to perform the conversion."
   ]
  },
  {
   "cell_type": "code",
   "execution_count": 154,
   "metadata": {},
   "outputs": [
    {
     "data": {
      "text/plain": [
       "0       Yes\n",
       "1        No\n",
       "2       Yes\n",
       "3       Yes\n",
       "4       Yes\n",
       "       ... \n",
       "1181    Yes\n",
       "1182    Yes\n",
       "1183     No\n",
       "1184    Yes\n",
       "1185    Yes\n",
       "Name: Have you seen any of the 6 films in the Star Wars franchise?, Length: 1186, dtype: object"
      ]
     },
     "execution_count": 154,
     "metadata": {},
     "output_type": "execute_result"
    }
   ],
   "source": [
    "star_wars['Have you seen any of the 6 films in the Star Wars franchise?']"
   ]
  },
  {
   "cell_type": "code",
   "execution_count": 155,
   "metadata": {},
   "outputs": [],
   "source": [
    "bool_yesno = {'Yes': True,\n",
    "                    'No': False}\n",
    "# mapping arguements\n",
    "\n",
    "star_wars['Have you seen any of the 6 films in the Star Wars franchise?'] = star_wars['Have you seen any of the 6 films in the Star Wars franchise?'].map(bool_yesno)\n",
    "# mapping Yes No values with boolean True and False respectively\n"
   ]
  },
  {
   "cell_type": "code",
   "execution_count": 156,
   "metadata": {},
   "outputs": [
    {
     "data": {
      "text/plain": [
       "Have you seen any of the 6 films in the Star Wars franchise?\n",
       "True     936\n",
       "False    250\n",
       "Name: count, dtype: int64"
      ]
     },
     "execution_count": 156,
     "metadata": {},
     "output_type": "execute_result"
    }
   ],
   "source": [
    "star_wars['Have you seen any of the 6 films in the Star Wars franchise?'].value_counts(dropna=False)"
   ]
  },
  {
   "cell_type": "code",
   "execution_count": 157,
   "metadata": {},
   "outputs": [
    {
     "data": {
      "text/plain": [
       "0       Yes\n",
       "1       NaN\n",
       "2        No\n",
       "3       Yes\n",
       "4       Yes\n",
       "       ... \n",
       "1181    Yes\n",
       "1182    Yes\n",
       "1183    NaN\n",
       "1184    Yes\n",
       "1185     No\n",
       "Name: Do you consider yourself to be a fan of the Star Wars film franchise?, Length: 1186, dtype: object"
      ]
     },
     "execution_count": 157,
     "metadata": {},
     "output_type": "execute_result"
    }
   ],
   "source": [
    "star_wars['Do you consider yourself to be a fan of the Star Wars film franchise?']"
   ]
  },
  {
   "cell_type": "code",
   "execution_count": 158,
   "metadata": {},
   "outputs": [],
   "source": [
    "star_wars['Do you consider yourself to be a fan of the Star Wars film franchise?'] = star_wars['Do you consider yourself to be a fan of the Star Wars film franchise?'].map(bool_yesno)\n",
    "# mapping for boolean value"
   ]
  },
  {
   "cell_type": "code",
   "execution_count": 159,
   "metadata": {},
   "outputs": [
    {
     "data": {
      "text/plain": [
       "Do you consider yourself to be a fan of the Star Wars film franchise?\n",
       "True     552\n",
       "NaN      350\n",
       "False    284\n",
       "Name: count, dtype: int64"
      ]
     },
     "execution_count": 159,
     "metadata": {},
     "output_type": "execute_result"
    }
   ],
   "source": [
    "star_wars['Do you consider yourself to be a fan of the Star Wars film franchise?'].value_counts(dropna=False)"
   ]
  },
  {
   "cell_type": "markdown",
   "metadata": {},
   "source": [
    "`Do you consider yourself to be a fan of the Star Wars film franchise?` column has NaN values too."
   ]
  },
  {
   "cell_type": "markdown",
   "metadata": {},
   "source": [
    "# Cleaning and Mapping Checkbox Columns<a id=\"checkbox\"></a>"
   ]
  },
  {
   "cell_type": "markdown",
   "metadata": {},
   "source": [
    "The following six columns represent a single checkbox question. The respondent checked off a series of boxes in response to the question, `Which of the following Star Wars films have you seen? Please select all that apply.`\n",
    "\n",
    "The columns for this question are:\n",
    "\n",
    "- `Which of the following Star Wars films have you seen? Please select all that apply.` — whether or not the respondent saw `Star Wars: Episode I The Phantom Menace`.\n",
    "- `Unnamed: 4` — whether or not the respondent saw `Star Wars: Episode II Attack of the Clones`.\n",
    "- `Unnamed: 5` — whether or not the respondent saw `Star Wars: Episode III Revenge of the Sith`.\n",
    "- `Unnamed: 6` — whether or not the respondent saw `Star Wars: Episode IV A New Hope`.\n",
    "- `Unnamed: 7` — whether or not the respondent saw `Star Wars: Episode V The Empire Strikes Back`.\n",
    "- `Unnamed: 8` — whether or not the respondent saw `Star Wars: Episode VI Return of the Jedi`.\n",
    "\n",
    "For each of these columns, if the value in a cell is the name of the movie, that means the respondent saw the movie. If the value is `NaN`, the respondent either didn't answer or didn't see the movie. We'll assume that they didn't see the movie.\n",
    "\n",
    "We'll need to convert each of these columns to a Boolean, then rename the column something more intuitive. We can convert the values the same way we did earlier, except that we'll need to include the movie title and `NaN` in the mapping dictionary."
   ]
  },
  {
   "cell_type": "code",
   "execution_count": 160,
   "metadata": {},
   "outputs": [
    {
     "data": {
      "text/plain": [
       "Which of the following Star Wars films have you seen? Please select all that apply.\n",
       "Star Wars: Episode I  The Phantom Menace    673\n",
       "NaN                                         513\n",
       "Name: count, dtype: int64"
      ]
     },
     "execution_count": 160,
     "metadata": {},
     "output_type": "execute_result"
    }
   ],
   "source": [
    "star_wars['Which of the following Star Wars films have you seen? Please select all that apply.'].value_counts(dropna=False)"
   ]
  },
  {
   "cell_type": "code",
   "execution_count": 161,
   "metadata": {},
   "outputs": [
    {
     "data": {
      "text/plain": [
       "0       Star Wars: Episode I  The Phantom Menace\n",
       "1                                            NaN\n",
       "2       Star Wars: Episode I  The Phantom Menace\n",
       "3       Star Wars: Episode I  The Phantom Menace\n",
       "4       Star Wars: Episode I  The Phantom Menace\n",
       "                          ...                   \n",
       "1181    Star Wars: Episode I  The Phantom Menace\n",
       "1182    Star Wars: Episode I  The Phantom Menace\n",
       "1183                                         NaN\n",
       "1184    Star Wars: Episode I  The Phantom Menace\n",
       "1185    Star Wars: Episode I  The Phantom Menace\n",
       "Name: Which of the following Star Wars films have you seen? Please select all that apply., Length: 1186, dtype: object"
      ]
     },
     "execution_count": 161,
     "metadata": {},
     "output_type": "execute_result"
    }
   ],
   "source": [
    "star_wars[star_wars.columns[3]]"
   ]
  },
  {
   "cell_type": "code",
   "execution_count": 162,
   "metadata": {},
   "outputs": [
    {
     "data": {
      "text/plain": [
       "seen_1\n",
       "True     673\n",
       "False    513\n",
       "Name: count, dtype: int64"
      ]
     },
     "execution_count": 162,
     "metadata": {},
     "output_type": "execute_result"
    }
   ],
   "source": [
    "mapper = {'Star Wars: Episode I  The Phantom Menace' : True,\n",
    "                      np.nan : False}\n",
    "\n",
    "star_wars.iloc[:,3] = star_wars.iloc[:,3].map(mapper)\n",
    "# mapper maps the values of rows, \n",
    "\n",
    "star_wars = star_wars.rename(columns={'Which of the following Star Wars films have you seen? Please select all that apply.': \"seen_1\"})\n",
    "# rename changes column name to seen_1\n",
    "# column[3] index is for 'Which of the following Star Wars films have you seen? Please select all that apply.'\n",
    "\n",
    "# star_wars.columns[3]\n",
    "star_wars[star_wars.columns[3]].value_counts()"
   ]
  },
  {
   "cell_type": "markdown",
   "metadata": {},
   "source": [
    "There were people who didn't see `Star Wars: Episode I The Phantom Menace`."
   ]
  },
  {
   "cell_type": "code",
   "execution_count": 163,
   "metadata": {},
   "outputs": [
    {
     "data": {
      "text/plain": [
       "Unnamed: 4\n",
       "NaN                                            615\n",
       "Star Wars: Episode II  Attack of the Clones    571\n",
       "Name: count, dtype: int64"
      ]
     },
     "execution_count": 163,
     "metadata": {},
     "output_type": "execute_result"
    }
   ],
   "source": [
    "star_wars['Unnamed: 4'].value_counts(dropna=False)"
   ]
  },
  {
   "cell_type": "code",
   "execution_count": 164,
   "metadata": {},
   "outputs": [
    {
     "data": {
      "text/plain": [
       "seen_2\n",
       "False    615\n",
       "True     571\n",
       "Name: count, dtype: int64"
      ]
     },
     "execution_count": 164,
     "metadata": {},
     "output_type": "execute_result"
    }
   ],
   "source": [
    "mapper_2 = {'Star Wars: Episode II  Attack of the Clones' : True, np.nan: False}\n",
    "\n",
    "star_wars['Unnamed: 4'] = star_wars['Unnamed: 4'].map(mapper_2)\n",
    "# mapping boolean values\n",
    "\n",
    "star_wars = star_wars.rename(columns={'Unnamed: 4': 'seen_2'})\n",
    "\n",
    "star_wars['seen_2'].value_counts()"
   ]
  },
  {
   "cell_type": "code",
   "execution_count": 165,
   "metadata": {},
   "outputs": [
    {
     "data": {
      "text/plain": [
       "Unnamed: 5\n",
       "NaN                                            636\n",
       "Star Wars: Episode III  Revenge of the Sith    550\n",
       "Name: count, dtype: int64"
      ]
     },
     "execution_count": 165,
     "metadata": {},
     "output_type": "execute_result"
    }
   ],
   "source": [
    "star_wars['Unnamed: 5'].value_counts(dropna=False)"
   ]
  },
  {
   "cell_type": "code",
   "execution_count": 166,
   "metadata": {},
   "outputs": [
    {
     "data": {
      "text/plain": [
       "seen_3\n",
       "False    636\n",
       "True     550\n",
       "Name: count, dtype: int64"
      ]
     },
     "execution_count": 166,
     "metadata": {},
     "output_type": "execute_result"
    }
   ],
   "source": [
    "mapper_3 = {'Star Wars: Episode III  Revenge of the Sith': True, np.nan: False}\n",
    "\n",
    "star_wars['Unnamed: 5'] = star_wars['Unnamed: 5'].map(mapper_3)\n",
    "# mapping boolean values\n",
    "\n",
    "star_wars = star_wars.rename(columns={'Unnamed: 5': 'seen_3'})\n",
    "\n",
    "star_wars['seen_3'].value_counts()"
   ]
  },
  {
   "cell_type": "code",
   "execution_count": 167,
   "metadata": {},
   "outputs": [
    {
     "data": {
      "text/plain": [
       "0       Star Wars: Episode IV  A New Hope\n",
       "1                                     NaN\n",
       "2                                     NaN\n",
       "3       Star Wars: Episode IV  A New Hope\n",
       "4       Star Wars: Episode IV  A New Hope\n",
       "                      ...                \n",
       "1181    Star Wars: Episode IV  A New Hope\n",
       "1182    Star Wars: Episode IV  A New Hope\n",
       "1183                                  NaN\n",
       "1184    Star Wars: Episode IV  A New Hope\n",
       "1185                                  NaN\n",
       "Name: Unnamed: 6, Length: 1186, dtype: object"
      ]
     },
     "execution_count": 167,
     "metadata": {},
     "output_type": "execute_result"
    }
   ],
   "source": [
    "star_wars['Unnamed: 6']"
   ]
  },
  {
   "cell_type": "code",
   "execution_count": 168,
   "metadata": {},
   "outputs": [
    {
     "data": {
      "text/plain": [
       "seen_4\n",
       "True     607\n",
       "False    579\n",
       "Name: count, dtype: int64"
      ]
     },
     "execution_count": 168,
     "metadata": {},
     "output_type": "execute_result"
    }
   ],
   "source": [
    "mapper_4 = {'Star Wars: Episode IV  A New Hope': True, np.nan: False}\n",
    "\n",
    "star_wars['Unnamed: 6'] = star_wars['Unnamed: 6'].map(mapper_4)\n",
    "# map boolean values\n",
    "\n",
    "star_wars = star_wars.rename(columns={'Unnamed: 6': 'seen_4'})\n",
    "# rename the column\n",
    "\n",
    "star_wars['seen_4'].value_counts(dropna=False)"
   ]
  },
  {
   "cell_type": "code",
   "execution_count": 169,
   "metadata": {},
   "outputs": [
    {
     "data": {
      "text/plain": [
       "0       Star Wars: Episode V The Empire Strikes Back\n",
       "1                                                NaN\n",
       "2                                                NaN\n",
       "3       Star Wars: Episode V The Empire Strikes Back\n",
       "4       Star Wars: Episode V The Empire Strikes Back\n",
       "                            ...                     \n",
       "1181    Star Wars: Episode V The Empire Strikes Back\n",
       "1182    Star Wars: Episode V The Empire Strikes Back\n",
       "1183                                             NaN\n",
       "1184    Star Wars: Episode V The Empire Strikes Back\n",
       "1185    Star Wars: Episode V The Empire Strikes Back\n",
       "Name: Unnamed: 7, Length: 1186, dtype: object"
      ]
     },
     "execution_count": 169,
     "metadata": {},
     "output_type": "execute_result"
    }
   ],
   "source": [
    "star_wars['Unnamed: 7']"
   ]
  },
  {
   "cell_type": "code",
   "execution_count": 170,
   "metadata": {},
   "outputs": [
    {
     "data": {
      "text/plain": [
       "seen_5\n",
       "True     758\n",
       "False    428\n",
       "Name: count, dtype: int64"
      ]
     },
     "execution_count": 170,
     "metadata": {},
     "output_type": "execute_result"
    }
   ],
   "source": [
    "mapper_5 = {'Star Wars: Episode V The Empire Strikes Back': True, np.nan: False}\n",
    "\n",
    "star_wars['Unnamed: 7'] = star_wars['Unnamed: 7'].map(mapper_5)\n",
    "# mapping boolean values\n",
    "\n",
    "star_wars = star_wars.rename(columns={'Unnamed: 7': 'seen_5'})\n",
    "star_wars['seen_5'].value_counts()"
   ]
  },
  {
   "cell_type": "code",
   "execution_count": 171,
   "metadata": {},
   "outputs": [
    {
     "data": {
      "text/plain": [
       "0       Star Wars: Episode VI Return of the Jedi\n",
       "1                                            NaN\n",
       "2                                            NaN\n",
       "3       Star Wars: Episode VI Return of the Jedi\n",
       "4       Star Wars: Episode VI Return of the Jedi\n",
       "                          ...                   \n",
       "1181    Star Wars: Episode VI Return of the Jedi\n",
       "1182    Star Wars: Episode VI Return of the Jedi\n",
       "1183                                         NaN\n",
       "1184    Star Wars: Episode VI Return of the Jedi\n",
       "1185    Star Wars: Episode VI Return of the Jedi\n",
       "Name: Unnamed: 8, Length: 1186, dtype: object"
      ]
     },
     "execution_count": 171,
     "metadata": {},
     "output_type": "execute_result"
    }
   ],
   "source": [
    "star_wars['Unnamed: 8']"
   ]
  },
  {
   "cell_type": "code",
   "execution_count": 172,
   "metadata": {},
   "outputs": [
    {
     "data": {
      "text/plain": [
       "seen_6\n",
       "True     738\n",
       "False    448\n",
       "Name: count, dtype: int64"
      ]
     },
     "execution_count": 172,
     "metadata": {},
     "output_type": "execute_result"
    }
   ],
   "source": [
    "mapper_6 = {'Star Wars: Episode VI Return of the Jedi': True, np.nan: False}\n",
    "\n",
    "star_wars['Unnamed: 8'] = star_wars['Unnamed: 8'].map(mapper_6)\n",
    "# mapping boolean values\n",
    "\n",
    "star_wars = star_wars.rename(columns={'Unnamed: 8': 'seen_6'})\n",
    "# renaming the column\n",
    "\n",
    "star_wars['seen_6'].value_counts()"
   ]
  },
  {
   "cell_type": "markdown",
   "metadata": {},
   "source": [
    "We now have 6 columns that represent from first to the sixth episode of the Star Wars:\n",
    "- `seen_1`\n",
    "- `seen_2`\n",
    "- `seen_3`\n",
    "- `seen_4`\n",
    "- `seen_5`\n",
    "- `seen_6`\n",
    "\n",
    "These columns contains boolean values either `True` or `False`, if they have seen the movie or not."
   ]
  },
  {
   "cell_type": "markdown",
   "metadata": {},
   "source": [
    "# Cleaning the Ranking Columns<a id=\"rank\"></a>"
   ]
  },
  {
   "cell_type": "markdown",
   "metadata": {},
   "source": [
    "The next six columns ask the respondent to rank the Star Wars movies in order from least to most favorite. `1` means the film was the most favorite, and `6` means it was the least favorite. Each of the following columns can contain the value `1`, `2`, `3`, `4`, `5`, `6`, or `NaN`:\n",
    "\n",
    "- `Please rank the Star Wars films in order of preference with 1 being your favorite film in the franchise and 6 being your least favorite film.` - How much the respondent liked `Star Wars: Episode I The Phantom Menace`\n",
    "- `Unnamed: 10` — How much the respondent liked `Star Wars: Episode II Attack of the Clones`\n",
    "- `Unnamed: 11` — How much the respondent liked `Star Wars: Episode III Revenge of the Sith`\n",
    "- `Unnamed: 12` — How much the respondent liked `Star Wars: Episode IV A New Hope`\n",
    "- `Unnamed: 13` — How much the respondent liked `Star Wars: Episode V The Empire Strikes Back`\n",
    "- `Unnamed: 14` — How much the respondent liked `Star Wars: Episode VI Return of the Jedi`\n",
    "\n",
    "Fortunately, these columns don't require much cleaning. We'll need to convert each column to a numeric type, then rename the columns so that we can tell what they represent more easily."
   ]
  },
  {
   "cell_type": "code",
   "execution_count": 173,
   "metadata": {},
   "outputs": [
    {
     "data": {
      "text/html": [
       "<div>\n",
       "<style scoped>\n",
       "    .dataframe tbody tr th:only-of-type {\n",
       "        vertical-align: middle;\n",
       "    }\n",
       "\n",
       "    .dataframe tbody tr th {\n",
       "        vertical-align: top;\n",
       "    }\n",
       "\n",
       "    .dataframe thead th {\n",
       "        text-align: right;\n",
       "    }\n",
       "</style>\n",
       "<table border=\"1\" class=\"dataframe\">\n",
       "  <thead>\n",
       "    <tr style=\"text-align: right;\">\n",
       "      <th></th>\n",
       "      <th>Please rank the Star Wars films in order of preference with 1 being your favorite film in the franchise and 6 being your least favorite film.</th>\n",
       "      <th>Unnamed: 10</th>\n",
       "      <th>Unnamed: 11</th>\n",
       "      <th>Unnamed: 12</th>\n",
       "      <th>Unnamed: 13</th>\n",
       "      <th>Unnamed: 14</th>\n",
       "    </tr>\n",
       "  </thead>\n",
       "  <tbody>\n",
       "    <tr>\n",
       "      <th>0</th>\n",
       "      <td>3.0</td>\n",
       "      <td>2.0</td>\n",
       "      <td>1.0</td>\n",
       "      <td>4.0</td>\n",
       "      <td>5.0</td>\n",
       "      <td>6.0</td>\n",
       "    </tr>\n",
       "    <tr>\n",
       "      <th>1</th>\n",
       "      <td>NaN</td>\n",
       "      <td>NaN</td>\n",
       "      <td>NaN</td>\n",
       "      <td>NaN</td>\n",
       "      <td>NaN</td>\n",
       "      <td>NaN</td>\n",
       "    </tr>\n",
       "    <tr>\n",
       "      <th>2</th>\n",
       "      <td>1.0</td>\n",
       "      <td>2.0</td>\n",
       "      <td>3.0</td>\n",
       "      <td>4.0</td>\n",
       "      <td>5.0</td>\n",
       "      <td>6.0</td>\n",
       "    </tr>\n",
       "    <tr>\n",
       "      <th>3</th>\n",
       "      <td>5.0</td>\n",
       "      <td>6.0</td>\n",
       "      <td>1.0</td>\n",
       "      <td>2.0</td>\n",
       "      <td>4.0</td>\n",
       "      <td>3.0</td>\n",
       "    </tr>\n",
       "    <tr>\n",
       "      <th>4</th>\n",
       "      <td>5.0</td>\n",
       "      <td>4.0</td>\n",
       "      <td>6.0</td>\n",
       "      <td>2.0</td>\n",
       "      <td>1.0</td>\n",
       "      <td>3.0</td>\n",
       "    </tr>\n",
       "    <tr>\n",
       "      <th>...</th>\n",
       "      <td>...</td>\n",
       "      <td>...</td>\n",
       "      <td>...</td>\n",
       "      <td>...</td>\n",
       "      <td>...</td>\n",
       "      <td>...</td>\n",
       "    </tr>\n",
       "    <tr>\n",
       "      <th>1181</th>\n",
       "      <td>5.0</td>\n",
       "      <td>4.0</td>\n",
       "      <td>6.0</td>\n",
       "      <td>3.0</td>\n",
       "      <td>2.0</td>\n",
       "      <td>1.0</td>\n",
       "    </tr>\n",
       "    <tr>\n",
       "      <th>1182</th>\n",
       "      <td>4.0</td>\n",
       "      <td>5.0</td>\n",
       "      <td>6.0</td>\n",
       "      <td>2.0</td>\n",
       "      <td>3.0</td>\n",
       "      <td>1.0</td>\n",
       "    </tr>\n",
       "    <tr>\n",
       "      <th>1183</th>\n",
       "      <td>NaN</td>\n",
       "      <td>NaN</td>\n",
       "      <td>NaN</td>\n",
       "      <td>NaN</td>\n",
       "      <td>NaN</td>\n",
       "      <td>NaN</td>\n",
       "    </tr>\n",
       "    <tr>\n",
       "      <th>1184</th>\n",
       "      <td>4.0</td>\n",
       "      <td>3.0</td>\n",
       "      <td>6.0</td>\n",
       "      <td>5.0</td>\n",
       "      <td>2.0</td>\n",
       "      <td>1.0</td>\n",
       "    </tr>\n",
       "    <tr>\n",
       "      <th>1185</th>\n",
       "      <td>6.0</td>\n",
       "      <td>1.0</td>\n",
       "      <td>2.0</td>\n",
       "      <td>3.0</td>\n",
       "      <td>4.0</td>\n",
       "      <td>5.0</td>\n",
       "    </tr>\n",
       "  </tbody>\n",
       "</table>\n",
       "<p>1186 rows × 6 columns</p>\n",
       "</div>"
      ],
      "text/plain": [
       "      Please rank the Star Wars films in order of preference with 1 being your favorite film in the franchise and 6 being your least favorite film.  \\\n",
       "0                                                   3.0                                                                                               \n",
       "1                                                   NaN                                                                                               \n",
       "2                                                   1.0                                                                                               \n",
       "3                                                   5.0                                                                                               \n",
       "4                                                   5.0                                                                                               \n",
       "...                                                 ...                                                                                               \n",
       "1181                                                5.0                                                                                               \n",
       "1182                                                4.0                                                                                               \n",
       "1183                                                NaN                                                                                               \n",
       "1184                                                4.0                                                                                               \n",
       "1185                                                6.0                                                                                               \n",
       "\n",
       "      Unnamed: 10  Unnamed: 11  Unnamed: 12  Unnamed: 13  Unnamed: 14  \n",
       "0             2.0          1.0          4.0          5.0          6.0  \n",
       "1             NaN          NaN          NaN          NaN          NaN  \n",
       "2             2.0          3.0          4.0          5.0          6.0  \n",
       "3             6.0          1.0          2.0          4.0          3.0  \n",
       "4             4.0          6.0          2.0          1.0          3.0  \n",
       "...           ...          ...          ...          ...          ...  \n",
       "1181          4.0          6.0          3.0          2.0          1.0  \n",
       "1182          5.0          6.0          2.0          3.0          1.0  \n",
       "1183          NaN          NaN          NaN          NaN          NaN  \n",
       "1184          3.0          6.0          5.0          2.0          1.0  \n",
       "1185          1.0          2.0          3.0          4.0          5.0  \n",
       "\n",
       "[1186 rows x 6 columns]"
      ]
     },
     "execution_count": 173,
     "metadata": {},
     "output_type": "execute_result"
    }
   ],
   "source": [
    "# converting these columns from 9 to 15th into float data type\n",
    "\n",
    "star_wars[star_wars.columns[9:15]] = star_wars[star_wars.columns[9:15]].astype(float)\n",
    "star_wars[star_wars.columns[9:15]]"
   ]
  },
  {
   "cell_type": "code",
   "execution_count": 174,
   "metadata": {},
   "outputs": [
    {
     "data": {
      "text/html": [
       "<div>\n",
       "<style scoped>\n",
       "    .dataframe tbody tr th:only-of-type {\n",
       "        vertical-align: middle;\n",
       "    }\n",
       "\n",
       "    .dataframe tbody tr th {\n",
       "        vertical-align: top;\n",
       "    }\n",
       "\n",
       "    .dataframe thead th {\n",
       "        text-align: right;\n",
       "    }\n",
       "</style>\n",
       "<table border=\"1\" class=\"dataframe\">\n",
       "  <thead>\n",
       "    <tr style=\"text-align: right;\">\n",
       "      <th></th>\n",
       "      <th>ranking_1</th>\n",
       "      <th>ranking_2</th>\n",
       "      <th>ranking_3</th>\n",
       "      <th>ranking_4</th>\n",
       "      <th>ranking_5</th>\n",
       "      <th>ranking_6</th>\n",
       "    </tr>\n",
       "  </thead>\n",
       "  <tbody>\n",
       "    <tr>\n",
       "      <th>0</th>\n",
       "      <td>3.0</td>\n",
       "      <td>2.0</td>\n",
       "      <td>1.0</td>\n",
       "      <td>4.0</td>\n",
       "      <td>5.0</td>\n",
       "      <td>6.0</td>\n",
       "    </tr>\n",
       "    <tr>\n",
       "      <th>1</th>\n",
       "      <td>NaN</td>\n",
       "      <td>NaN</td>\n",
       "      <td>NaN</td>\n",
       "      <td>NaN</td>\n",
       "      <td>NaN</td>\n",
       "      <td>NaN</td>\n",
       "    </tr>\n",
       "    <tr>\n",
       "      <th>2</th>\n",
       "      <td>1.0</td>\n",
       "      <td>2.0</td>\n",
       "      <td>3.0</td>\n",
       "      <td>4.0</td>\n",
       "      <td>5.0</td>\n",
       "      <td>6.0</td>\n",
       "    </tr>\n",
       "    <tr>\n",
       "      <th>3</th>\n",
       "      <td>5.0</td>\n",
       "      <td>6.0</td>\n",
       "      <td>1.0</td>\n",
       "      <td>2.0</td>\n",
       "      <td>4.0</td>\n",
       "      <td>3.0</td>\n",
       "    </tr>\n",
       "    <tr>\n",
       "      <th>4</th>\n",
       "      <td>5.0</td>\n",
       "      <td>4.0</td>\n",
       "      <td>6.0</td>\n",
       "      <td>2.0</td>\n",
       "      <td>1.0</td>\n",
       "      <td>3.0</td>\n",
       "    </tr>\n",
       "    <tr>\n",
       "      <th>...</th>\n",
       "      <td>...</td>\n",
       "      <td>...</td>\n",
       "      <td>...</td>\n",
       "      <td>...</td>\n",
       "      <td>...</td>\n",
       "      <td>...</td>\n",
       "    </tr>\n",
       "    <tr>\n",
       "      <th>1181</th>\n",
       "      <td>5.0</td>\n",
       "      <td>4.0</td>\n",
       "      <td>6.0</td>\n",
       "      <td>3.0</td>\n",
       "      <td>2.0</td>\n",
       "      <td>1.0</td>\n",
       "    </tr>\n",
       "    <tr>\n",
       "      <th>1182</th>\n",
       "      <td>4.0</td>\n",
       "      <td>5.0</td>\n",
       "      <td>6.0</td>\n",
       "      <td>2.0</td>\n",
       "      <td>3.0</td>\n",
       "      <td>1.0</td>\n",
       "    </tr>\n",
       "    <tr>\n",
       "      <th>1183</th>\n",
       "      <td>NaN</td>\n",
       "      <td>NaN</td>\n",
       "      <td>NaN</td>\n",
       "      <td>NaN</td>\n",
       "      <td>NaN</td>\n",
       "      <td>NaN</td>\n",
       "    </tr>\n",
       "    <tr>\n",
       "      <th>1184</th>\n",
       "      <td>4.0</td>\n",
       "      <td>3.0</td>\n",
       "      <td>6.0</td>\n",
       "      <td>5.0</td>\n",
       "      <td>2.0</td>\n",
       "      <td>1.0</td>\n",
       "    </tr>\n",
       "    <tr>\n",
       "      <th>1185</th>\n",
       "      <td>6.0</td>\n",
       "      <td>1.0</td>\n",
       "      <td>2.0</td>\n",
       "      <td>3.0</td>\n",
       "      <td>4.0</td>\n",
       "      <td>5.0</td>\n",
       "    </tr>\n",
       "  </tbody>\n",
       "</table>\n",
       "<p>1186 rows × 6 columns</p>\n",
       "</div>"
      ],
      "text/plain": [
       "      ranking_1  ranking_2  ranking_3  ranking_4  ranking_5  ranking_6\n",
       "0           3.0        2.0        1.0        4.0        5.0        6.0\n",
       "1           NaN        NaN        NaN        NaN        NaN        NaN\n",
       "2           1.0        2.0        3.0        4.0        5.0        6.0\n",
       "3           5.0        6.0        1.0        2.0        4.0        3.0\n",
       "4           5.0        4.0        6.0        2.0        1.0        3.0\n",
       "...         ...        ...        ...        ...        ...        ...\n",
       "1181        5.0        4.0        6.0        3.0        2.0        1.0\n",
       "1182        4.0        5.0        6.0        2.0        3.0        1.0\n",
       "1183        NaN        NaN        NaN        NaN        NaN        NaN\n",
       "1184        4.0        3.0        6.0        5.0        2.0        1.0\n",
       "1185        6.0        1.0        2.0        3.0        4.0        5.0\n",
       "\n",
       "[1186 rows x 6 columns]"
      ]
     },
     "execution_count": 174,
     "metadata": {},
     "output_type": "execute_result"
    }
   ],
   "source": [
    "# We are going to rename 6 columns from column[9] to column[14]\n",
    "# we will give them names ranking_1, ranking_2 and so on. \n",
    "\n",
    "count = 1\n",
    "# to count from 1 to 6\n",
    "\n",
    "for col in list(star_wars[star_wars.columns[9:15]]):\n",
    "    star_wars = star_wars.rename(columns={col:'ranking_'+str(count)})\n",
    "#     renaming each column\n",
    "    count += 1\n",
    "#     count upto 6\n",
    "    \n",
    "star_wars[star_wars.columns[9:15]]\n",
    "# print the columns"
   ]
  },
  {
   "cell_type": "markdown",
   "metadata": {},
   "source": [
    "# Finding the Highest-Ranked Movie<a id=\"high\"></a>"
   ]
  },
  {
   "cell_type": "markdown",
   "metadata": {},
   "source": [
    "We will find the movie with highest rank with all the `ranking_n` columns. We will take the mean of the data available, and the highest mean suggest which episode has the high ratings among the 6."
   ]
  },
  {
   "cell_type": "code",
   "execution_count": 175,
   "metadata": {},
   "outputs": [
    {
     "data": {
      "text/plain": [
       "ranking_1    3.732934\n",
       "ranking_2    4.087321\n",
       "ranking_3    4.341317\n",
       "ranking_4    3.272727\n",
       "ranking_5    2.513158\n",
       "ranking_6    3.047847\n",
       "dtype: float64"
      ]
     },
     "execution_count": 175,
     "metadata": {},
     "output_type": "execute_result"
    }
   ],
   "source": [
    "star_wars[star_wars.columns[9:15]].mean()\n",
    "# printing the mean ranks for those 6 columns"
   ]
  },
  {
   "cell_type": "code",
   "execution_count": 176,
   "metadata": {},
   "outputs": [
    {
     "data": {
      "text/plain": [
       "Text(0.5, 1.0, 'Rank of Starwars movies from I to VI episodes')"
      ]
     },
     "execution_count": 176,
     "metadata": {},
     "output_type": "execute_result"
    },
    {
     "data": {
      "image/png": "[encoded data removed]",
      "text/plain": [
       "<Figure size 640x480 with 1 Axes>"
      ]
     },
     "metadata": {},
     "output_type": "display_data"
    }
   ],
   "source": [
    "star_wars[star_wars.columns[9:15]].mean().plot.barh()\n",
    "# bar diagram\n",
    "plt.xlabel('Rank')\n",
    "plt.ylabel('Episode 1-6 ranked')\n",
    "plt.title('Rank of Starwars movies from I to VI episodes')"
   ]
  },
  {
   "cell_type": "markdown",
   "metadata": {},
   "source": [
    "In average, the ranking_3 has the highest mean value which suggest, the `III Episode` could be the every ones preference after all! The `V Episode` is the lowest ranked!"
   ]
  },
  {
   "cell_type": "markdown",
   "metadata": {},
   "source": [
    "# Finding the Most Viewed Movie<a id=\"view\"></a>"
   ]
  },
  {
   "cell_type": "markdown",
   "metadata": {},
   "source": [
    "Previously we cleaned columns like `seen_1`, `seen_2`, and so on, we will look into these columns which contain boolean values and get the sum of all the `True` values to find the most viewed `Star Wars Episode`."
   ]
  },
  {
   "cell_type": "code",
   "execution_count": 177,
   "metadata": {},
   "outputs": [
    {
     "data": {
      "text/html": [
       "<div>\n",
       "<style scoped>\n",
       "    .dataframe tbody tr th:only-of-type {\n",
       "        vertical-align: middle;\n",
       "    }\n",
       "\n",
       "    .dataframe tbody tr th {\n",
       "        vertical-align: top;\n",
       "    }\n",
       "\n",
       "    .dataframe thead th {\n",
       "        text-align: right;\n",
       "    }\n",
       "</style>\n",
       "<table border=\"1\" class=\"dataframe\">\n",
       "  <thead>\n",
       "    <tr style=\"text-align: right;\">\n",
       "      <th></th>\n",
       "      <th>RespondentID</th>\n",
       "      <th>Have you seen any of the 6 films in the Star Wars franchise?</th>\n",
       "      <th>Do you consider yourself to be a fan of the Star Wars film franchise?</th>\n",
       "      <th>seen_1</th>\n",
       "      <th>seen_2</th>\n",
       "      <th>seen_3</th>\n",
       "      <th>seen_4</th>\n",
       "      <th>seen_5</th>\n",
       "      <th>seen_6</th>\n",
       "      <th>ranking_1</th>\n",
       "      <th>...</th>\n",
       "      <th>Unnamed: 28</th>\n",
       "      <th>Which character shot first?</th>\n",
       "      <th>Are you familiar with the Expanded Universe?</th>\n",
       "      <th>Do you consider yourself to be a fan of the Expanded Universe?</th>\n",
       "      <th>Do you consider yourself to be a fan of the Star Trek franchise?</th>\n",
       "      <th>Gender</th>\n",
       "      <th>Age</th>\n",
       "      <th>Household Income</th>\n",
       "      <th>Education</th>\n",
       "      <th>Location (Census Region)</th>\n",
       "    </tr>\n",
       "  </thead>\n",
       "  <tbody>\n",
       "    <tr>\n",
       "      <th>0</th>\n",
       "      <td>3292879998</td>\n",
       "      <td>True</td>\n",
       "      <td>True</td>\n",
       "      <td>True</td>\n",
       "      <td>True</td>\n",
       "      <td>True</td>\n",
       "      <td>True</td>\n",
       "      <td>True</td>\n",
       "      <td>True</td>\n",
       "      <td>3.0</td>\n",
       "      <td>...</td>\n",
       "      <td>Very favorably</td>\n",
       "      <td>I don't understand this question</td>\n",
       "      <td>Yes</td>\n",
       "      <td>No</td>\n",
       "      <td>No</td>\n",
       "      <td>Male</td>\n",
       "      <td>18-29</td>\n",
       "      <td>NaN</td>\n",
       "      <td>High school degree</td>\n",
       "      <td>South Atlantic</td>\n",
       "    </tr>\n",
       "  </tbody>\n",
       "</table>\n",
       "<p>1 rows × 38 columns</p>\n",
       "</div>"
      ],
      "text/plain": [
       "   RespondentID  Have you seen any of the 6 films in the Star Wars franchise?  \\\n",
       "0    3292879998                                               True              \n",
       "\n",
       "  Do you consider yourself to be a fan of the Star Wars film franchise?  \\\n",
       "0                                               True                      \n",
       "\n",
       "  seen_1  seen_2  seen_3  seen_4  seen_5  seen_6  ranking_1  ...  \\\n",
       "0   True    True    True    True    True    True        3.0  ...   \n",
       "\n",
       "      Unnamed: 28       Which character shot first?  \\\n",
       "0  Very favorably  I don't understand this question   \n",
       "\n",
       "   Are you familiar with the Expanded Universe?  \\\n",
       "0                                           Yes   \n",
       "\n",
       "   Do you consider yourself to be a fan of the Expanded Universe?  \\\n",
       "0                                                 No                \n",
       "\n",
       "   Do you consider yourself to be a fan of the Star Trek franchise? Gender  \\\n",
       "0                                                 No                  Male   \n",
       "\n",
       "     Age Household Income           Education Location (Census Region)  \n",
       "0  18-29              NaN  High school degree           South Atlantic  \n",
       "\n",
       "[1 rows x 38 columns]"
      ]
     },
     "execution_count": 177,
     "metadata": {},
     "output_type": "execute_result"
    }
   ],
   "source": [
    "star_wars.head(1)"
   ]
  },
  {
   "cell_type": "markdown",
   "metadata": {},
   "source": [
    "We can see `seen_n` columns are indexed from 3 to 8."
   ]
  },
  {
   "cell_type": "code",
   "execution_count": 178,
   "metadata": {},
   "outputs": [
    {
     "data": {
      "text/plain": [
       "seen_1    673\n",
       "seen_2    571\n",
       "seen_3    550\n",
       "seen_4    607\n",
       "seen_5    758\n",
       "seen_6    738\n",
       "dtype: object"
      ]
     },
     "execution_count": 178,
     "metadata": {},
     "output_type": "execute_result"
    }
   ],
   "source": [
    "star_wars[star_wars.columns[3:9]].sum()\n",
    "# sum of all the 6 seen episodes"
   ]
  },
  {
   "cell_type": "code",
   "execution_count": 179,
   "metadata": {},
   "outputs": [
    {
     "data": {
      "text/plain": [
       "Text(0, 0.5, 'Seen category')"
      ]
     },
     "execution_count": 179,
     "metadata": {},
     "output_type": "execute_result"
    },
    {
     "data": {
      "image/png": "[encoded data removed]",
      "text/plain": [
       "<Figure size 640x480 with 1 Axes>"
      ]
     },
     "metadata": {},
     "output_type": "display_data"
    }
   ],
   "source": [
    "star_wars[star_wars.columns[3:9]].sum().plot.barh()\n",
    "# bar plot for the same\n",
    "\n",
    "plt.title(\"People who has seen the Star Wars movies\")\n",
    "plt.xlabel(\"Total numbers of people\")\n",
    "plt.ylabel(\"Seen category\")"
   ]
  },
  {
   "cell_type": "markdown",
   "metadata": {},
   "source": [
    "`V Episode` of `Star Wars` is the most seen one with total numbers of 758. The less seen was `II Episode` with 571 only who have seen the movie."
   ]
  },
  {
   "cell_type": "markdown",
   "metadata": {},
   "source": [
    "# Exploring the Data by Binary Segments<a id=\"bin\"></a>"
   ]
  },
  {
   "cell_type": "markdown",
   "metadata": {},
   "source": [
    "We know which movies the survey population as a whole has ranked the highest. Now let's examine how certain segments of the survey population responded. There are several columns that segment our data into two groups. Here are a few examples:\n",
    "\n",
    "- `Do you consider yourself to be a fan of the Star Wars film franchise?` — True or False\n",
    "- `Do you consider yourself to be a fan of the Star Trek franchise?` — Yes or No\n",
    "- `Gender` — Male or Female\n",
    "We can split a DataFrame into two groups based on a binary column by creating two subsets of that column. For example, we can split on the `Gender` column."
   ]
  },
  {
   "cell_type": "code",
   "execution_count": 180,
   "metadata": {},
   "outputs": [
    {
     "data": {
      "text/plain": [
       "Gender\n",
       "Female    549\n",
       "Male      497\n",
       "NaN       140\n",
       "Name: count, dtype: int64"
      ]
     },
     "execution_count": 180,
     "metadata": {},
     "output_type": "execute_result"
    }
   ],
   "source": [
    "star_wars['Gender'].value_counts(dropna=False)"
   ]
  },
  {
   "cell_type": "code",
   "execution_count": 181,
   "metadata": {},
   "outputs": [],
   "source": [
    "# splitting dataframe by gender\n",
    "males = star_wars[star_wars['Gender'] == 'Male']\n",
    "females = star_wars[star_wars['Gender'] == 'Female']\n",
    "others = star_wars[star_wars['Gender'] == np.nan]"
   ]
  },
  {
   "cell_type": "markdown",
   "metadata": {},
   "source": [
    "# Exploring dataset by Male category <a id=\"male\"></a>"
   ]
  },
  {
   "cell_type": "code",
   "execution_count": 182,
   "metadata": {},
   "outputs": [
    {
     "data": {
      "text/html": [
       "<div>\n",
       "<style scoped>\n",
       "    .dataframe tbody tr th:only-of-type {\n",
       "        vertical-align: middle;\n",
       "    }\n",
       "\n",
       "    .dataframe tbody tr th {\n",
       "        vertical-align: top;\n",
       "    }\n",
       "\n",
       "    .dataframe thead th {\n",
       "        text-align: right;\n",
       "    }\n",
       "</style>\n",
       "<table border=\"1\" class=\"dataframe\">\n",
       "  <thead>\n",
       "    <tr style=\"text-align: right;\">\n",
       "      <th></th>\n",
       "      <th>RespondentID</th>\n",
       "      <th>Have you seen any of the 6 films in the Star Wars franchise?</th>\n",
       "      <th>Do you consider yourself to be a fan of the Star Wars film franchise?</th>\n",
       "      <th>seen_1</th>\n",
       "      <th>seen_2</th>\n",
       "      <th>seen_3</th>\n",
       "      <th>seen_4</th>\n",
       "      <th>seen_5</th>\n",
       "      <th>seen_6</th>\n",
       "      <th>ranking_1</th>\n",
       "      <th>...</th>\n",
       "      <th>Unnamed: 28</th>\n",
       "      <th>Which character shot first?</th>\n",
       "      <th>Are you familiar with the Expanded Universe?</th>\n",
       "      <th>Do you consider yourself to be a fan of the Expanded Universe?</th>\n",
       "      <th>Do you consider yourself to be a fan of the Star Trek franchise?</th>\n",
       "      <th>Gender</th>\n",
       "      <th>Age</th>\n",
       "      <th>Household Income</th>\n",
       "      <th>Education</th>\n",
       "      <th>Location (Census Region)</th>\n",
       "    </tr>\n",
       "  </thead>\n",
       "  <tbody>\n",
       "    <tr>\n",
       "      <th>0</th>\n",
       "      <td>3292879998</td>\n",
       "      <td>True</td>\n",
       "      <td>True</td>\n",
       "      <td>True</td>\n",
       "      <td>True</td>\n",
       "      <td>True</td>\n",
       "      <td>True</td>\n",
       "      <td>True</td>\n",
       "      <td>True</td>\n",
       "      <td>3.0</td>\n",
       "      <td>...</td>\n",
       "      <td>Very favorably</td>\n",
       "      <td>I don't understand this question</td>\n",
       "      <td>Yes</td>\n",
       "      <td>No</td>\n",
       "      <td>No</td>\n",
       "      <td>Male</td>\n",
       "      <td>18-29</td>\n",
       "      <td>NaN</td>\n",
       "      <td>High school degree</td>\n",
       "      <td>South Atlantic</td>\n",
       "    </tr>\n",
       "    <tr>\n",
       "      <th>1</th>\n",
       "      <td>3292879538</td>\n",
       "      <td>False</td>\n",
       "      <td>NaN</td>\n",
       "      <td>False</td>\n",
       "      <td>False</td>\n",
       "      <td>False</td>\n",
       "      <td>False</td>\n",
       "      <td>False</td>\n",
       "      <td>False</td>\n",
       "      <td>NaN</td>\n",
       "      <td>...</td>\n",
       "      <td>NaN</td>\n",
       "      <td>NaN</td>\n",
       "      <td>NaN</td>\n",
       "      <td>NaN</td>\n",
       "      <td>Yes</td>\n",
       "      <td>Male</td>\n",
       "      <td>18-29</td>\n",
       "      <td>$0 - $24,999</td>\n",
       "      <td>Bachelor degree</td>\n",
       "      <td>West South Central</td>\n",
       "    </tr>\n",
       "  </tbody>\n",
       "</table>\n",
       "<p>2 rows × 38 columns</p>\n",
       "</div>"
      ],
      "text/plain": [
       "   RespondentID  Have you seen any of the 6 films in the Star Wars franchise?  \\\n",
       "0    3292879998                                               True              \n",
       "1    3292879538                                              False              \n",
       "\n",
       "  Do you consider yourself to be a fan of the Star Wars film franchise?  \\\n",
       "0                                               True                      \n",
       "1                                                NaN                      \n",
       "\n",
       "  seen_1  seen_2  seen_3  seen_4  seen_5  seen_6  ranking_1  ...  \\\n",
       "0   True    True    True    True    True    True        3.0  ...   \n",
       "1  False   False   False   False   False   False        NaN  ...   \n",
       "\n",
       "      Unnamed: 28       Which character shot first?  \\\n",
       "0  Very favorably  I don't understand this question   \n",
       "1             NaN                               NaN   \n",
       "\n",
       "   Are you familiar with the Expanded Universe?  \\\n",
       "0                                           Yes   \n",
       "1                                           NaN   \n",
       "\n",
       "   Do you consider yourself to be a fan of the Expanded Universe?  \\\n",
       "0                                                 No                \n",
       "1                                                NaN                \n",
       "\n",
       "   Do you consider yourself to be a fan of the Star Trek franchise? Gender  \\\n",
       "0                                                 No                  Male   \n",
       "1                                                Yes                  Male   \n",
       "\n",
       "     Age Household Income           Education Location (Census Region)  \n",
       "0  18-29              NaN  High school degree           South Atlantic  \n",
       "1  18-29     $0 - $24,999     Bachelor degree       West South Central  \n",
       "\n",
       "[2 rows x 38 columns]"
      ]
     },
     "execution_count": 182,
     "metadata": {},
     "output_type": "execute_result"
    }
   ],
   "source": [
    "males.head(2)"
   ]
  },
  {
   "cell_type": "code",
   "execution_count": 183,
   "metadata": {},
   "outputs": [
    {
     "data": {
      "text/plain": [
       "seen_1    361\n",
       "seen_2    323\n",
       "seen_3    317\n",
       "seen_4    342\n",
       "seen_5    392\n",
       "seen_6    387\n",
       "dtype: object"
      ]
     },
     "execution_count": 183,
     "metadata": {},
     "output_type": "execute_result"
    }
   ],
   "source": [
    "males[males.columns[3:9]].sum()\n",
    "# total seens by male population"
   ]
  },
  {
   "cell_type": "code",
   "execution_count": 184,
   "metadata": {},
   "outputs": [
    {
     "data": {
      "text/plain": [
       "Text(0, 0.5, 'Male seen category')"
      ]
     },
     "execution_count": 184,
     "metadata": {},
     "output_type": "execute_result"
    },
    {
     "data": {
      "image/png": "[encoded data removed]",
      "text/plain": [
       "<Figure size 640x480 with 1 Axes>"
      ]
     },
     "metadata": {},
     "output_type": "display_data"
    }
   ],
   "source": [
    "males[males.columns[3:9]].sum().plot.barh()\n",
    "# bar plot\n",
    "plt.title(\"Male poplulation who has seen the Star Wars movies\")\n",
    "plt.xlabel(\"Total numbers of people\")\n",
    "plt.ylabel(\"Male seen category\")"
   ]
  },
  {
   "cell_type": "code",
   "execution_count": 185,
   "metadata": {},
   "outputs": [
    {
     "data": {
      "text/plain": [
       "ranking_1    4.037825\n",
       "ranking_2    4.224586\n",
       "ranking_3    4.274882\n",
       "ranking_4    2.997636\n",
       "ranking_5    2.458629\n",
       "ranking_6    3.002364\n",
       "dtype: float64"
      ]
     },
     "execution_count": 185,
     "metadata": {},
     "output_type": "execute_result"
    }
   ],
   "source": [
    "# male mean ranking\n",
    "males[males.columns[9:15]].mean()"
   ]
  },
  {
   "cell_type": "code",
   "execution_count": 186,
   "metadata": {},
   "outputs": [
    {
     "data": {
      "text/plain": [
       "Text(0, 0.5, 'Rank category for each epidoes')"
      ]
     },
     "execution_count": 186,
     "metadata": {},
     "output_type": "execute_result"
    },
    {
     "data": {
      "image/png": "[encoded data removed]",
      "text/plain": [
       "<Figure size 640x480 with 1 Axes>"
      ]
     },
     "metadata": {},
     "output_type": "display_data"
    }
   ],
   "source": [
    "males[males.columns[9:15]].mean().plot.barh()\n",
    "plt.title('Ranking by Male population')\n",
    "plt.xlabel('Rank')\n",
    "plt.ylabel('Rank category for each epidoes')"
   ]
  },
  {
   "cell_type": "markdown",
   "metadata": {},
   "source": [
    "The most seen `Star Wars` movie by the male population was the `V Episode`, and the highest rank of the movie was for the `III Episode`. Yet, the `V Episode` was the lowest ranked, though."
   ]
  },
  {
   "cell_type": "markdown",
   "metadata": {},
   "source": [
    "# Exploring dataset by Female category <a id=\"female\"></a>"
   ]
  },
  {
   "cell_type": "code",
   "execution_count": 187,
   "metadata": {},
   "outputs": [
    {
     "data": {
      "text/html": [
       "<div>\n",
       "<style scoped>\n",
       "    .dataframe tbody tr th:only-of-type {\n",
       "        vertical-align: middle;\n",
       "    }\n",
       "\n",
       "    .dataframe tbody tr th {\n",
       "        vertical-align: top;\n",
       "    }\n",
       "\n",
       "    .dataframe thead th {\n",
       "        text-align: right;\n",
       "    }\n",
       "</style>\n",
       "<table border=\"1\" class=\"dataframe\">\n",
       "  <thead>\n",
       "    <tr style=\"text-align: right;\">\n",
       "      <th></th>\n",
       "      <th>RespondentID</th>\n",
       "      <th>Have you seen any of the 6 films in the Star Wars franchise?</th>\n",
       "      <th>Do you consider yourself to be a fan of the Star Wars film franchise?</th>\n",
       "      <th>seen_1</th>\n",
       "      <th>seen_2</th>\n",
       "      <th>seen_3</th>\n",
       "      <th>seen_4</th>\n",
       "      <th>seen_5</th>\n",
       "      <th>seen_6</th>\n",
       "      <th>ranking_1</th>\n",
       "      <th>...</th>\n",
       "      <th>Unnamed: 28</th>\n",
       "      <th>Which character shot first?</th>\n",
       "      <th>Are you familiar with the Expanded Universe?</th>\n",
       "      <th>Do you consider yourself to be a fan of the Expanded Universe?</th>\n",
       "      <th>Do you consider yourself to be a fan of the Star Trek franchise?</th>\n",
       "      <th>Gender</th>\n",
       "      <th>Age</th>\n",
       "      <th>Household Income</th>\n",
       "      <th>Education</th>\n",
       "      <th>Location (Census Region)</th>\n",
       "    </tr>\n",
       "  </thead>\n",
       "  <tbody>\n",
       "    <tr>\n",
       "      <th>111</th>\n",
       "      <td>3291439708</td>\n",
       "      <td>True</td>\n",
       "      <td>True</td>\n",
       "      <td>True</td>\n",
       "      <td>True</td>\n",
       "      <td>False</td>\n",
       "      <td>False</td>\n",
       "      <td>True</td>\n",
       "      <td>True</td>\n",
       "      <td>1.0</td>\n",
       "      <td>...</td>\n",
       "      <td>Somewhat favorably</td>\n",
       "      <td>Greedo</td>\n",
       "      <td>Yes</td>\n",
       "      <td>No</td>\n",
       "      <td>Yes</td>\n",
       "      <td>Female</td>\n",
       "      <td>&gt; 60</td>\n",
       "      <td>$50,000 - $99,999</td>\n",
       "      <td>Bachelor degree</td>\n",
       "      <td>South Atlantic</td>\n",
       "    </tr>\n",
       "    <tr>\n",
       "      <th>112</th>\n",
       "      <td>3291439404</td>\n",
       "      <td>True</td>\n",
       "      <td>False</td>\n",
       "      <td>True</td>\n",
       "      <td>False</td>\n",
       "      <td>False</td>\n",
       "      <td>False</td>\n",
       "      <td>False</td>\n",
       "      <td>False</td>\n",
       "      <td>1.0</td>\n",
       "      <td>...</td>\n",
       "      <td>Somewhat favorably</td>\n",
       "      <td>I don't understand this question</td>\n",
       "      <td>No</td>\n",
       "      <td>NaN</td>\n",
       "      <td>No</td>\n",
       "      <td>Female</td>\n",
       "      <td>&gt; 60</td>\n",
       "      <td>$25,000 - $49,999</td>\n",
       "      <td>Graduate degree</td>\n",
       "      <td>Pacific</td>\n",
       "    </tr>\n",
       "  </tbody>\n",
       "</table>\n",
       "<p>2 rows × 38 columns</p>\n",
       "</div>"
      ],
      "text/plain": [
       "     RespondentID  \\\n",
       "111    3291439708   \n",
       "112    3291439404   \n",
       "\n",
       "     Have you seen any of the 6 films in the Star Wars franchise?  \\\n",
       "111                                               True              \n",
       "112                                               True              \n",
       "\n",
       "    Do you consider yourself to be a fan of the Star Wars film franchise?  \\\n",
       "111                                               True                      \n",
       "112                                              False                      \n",
       "\n",
       "    seen_1  seen_2  seen_3  seen_4  seen_5  seen_6  ranking_1  ...  \\\n",
       "111   True    True   False   False    True    True        1.0  ...   \n",
       "112   True   False   False   False   False   False        1.0  ...   \n",
       "\n",
       "            Unnamed: 28       Which character shot first?  \\\n",
       "111  Somewhat favorably                            Greedo   \n",
       "112  Somewhat favorably  I don't understand this question   \n",
       "\n",
       "     Are you familiar with the Expanded Universe?  \\\n",
       "111                                           Yes   \n",
       "112                                            No   \n",
       "\n",
       "     Do you consider yourself to be a fan of the Expanded Universe?  \\\n",
       "111                                                 No                \n",
       "112                                                NaN                \n",
       "\n",
       "     Do you consider yourself to be a fan of the Star Trek franchise?  Gender  \\\n",
       "111                                                Yes                 Female   \n",
       "112                                                 No                 Female   \n",
       "\n",
       "      Age   Household Income        Education Location (Census Region)  \n",
       "111  > 60  $50,000 - $99,999  Bachelor degree           South Atlantic  \n",
       "112  > 60  $25,000 - $49,999  Graduate degree                  Pacific  \n",
       "\n",
       "[2 rows x 38 columns]"
      ]
     },
     "execution_count": 187,
     "metadata": {},
     "output_type": "execute_result"
    }
   ],
   "source": [
    "females.head(2)"
   ]
  },
  {
   "cell_type": "code",
   "execution_count": 188,
   "metadata": {},
   "outputs": [
    {
     "data": {
      "text/plain": [
       "seen_1    298\n",
       "seen_2    237\n",
       "seen_3    222\n",
       "seen_4    255\n",
       "seen_5    353\n",
       "seen_6    338\n",
       "dtype: object"
      ]
     },
     "execution_count": 188,
     "metadata": {},
     "output_type": "execute_result"
    }
   ],
   "source": [
    "females[females.columns[3:9]].sum()\n",
    "# female population who saw the star wars movie by seen_n category"
   ]
  },
  {
   "cell_type": "code",
   "execution_count": 189,
   "metadata": {},
   "outputs": [
    {
     "data": {
      "text/plain": [
       "Text(0, 0.5, 'Female seen category')"
      ]
     },
     "execution_count": 189,
     "metadata": {},
     "output_type": "execute_result"
    },
    {
     "data": {
      "image/png": "[encoded data removed]",
      "text/plain": [
       "<Figure size 640x480 with 1 Axes>"
      ]
     },
     "metadata": {},
     "output_type": "display_data"
    }
   ],
   "source": [
    "females[females.columns[3:9]].sum().plot.barh()\n",
    "# bar plot\n",
    "\n",
    "plt.title(\"Female poplulation who has seen the Star Wars movies\")\n",
    "plt.xlabel(\"Total numbers of people\")\n",
    "plt.ylabel(\"Female seen category\")"
   ]
  },
  {
   "cell_type": "code",
   "execution_count": 190,
   "metadata": {},
   "outputs": [
    {
     "data": {
      "text/plain": [
       "ranking_1    3.429293\n",
       "ranking_2    3.954660\n",
       "ranking_3    4.418136\n",
       "ranking_4    3.544081\n",
       "ranking_5    2.569270\n",
       "ranking_6    3.078086\n",
       "dtype: float64"
      ]
     },
     "execution_count": 190,
     "metadata": {},
     "output_type": "execute_result"
    }
   ],
   "source": [
    "# female ranking\n",
    "females[females.columns[9:15]].mean()\n",
    "# average ranking by female"
   ]
  },
  {
   "cell_type": "code",
   "execution_count": 191,
   "metadata": {},
   "outputs": [
    {
     "data": {
      "text/plain": [
       "Text(0, 0.5, 'Rank category for each epidoes')"
      ]
     },
     "execution_count": 191,
     "metadata": {},
     "output_type": "execute_result"
    },
    {
     "data": {
      "image/png": "[encoded data removed]",
      "text/plain": [
       "<Figure size 640x480 with 1 Axes>"
      ]
     },
     "metadata": {},
     "output_type": "display_data"
    }
   ],
   "source": [
    "females[females.columns[9:15]].mean().plot.barh()\n",
    "# bar plot for the same\n",
    "plt.title('Ranking by Female population')\n",
    "plt.xlabel('Rank')\n",
    "plt.ylabel('Rank category for each epidoes')"
   ]
  },
  {
   "cell_type": "markdown",
   "metadata": {},
   "source": [
    "It shows that the female population has the most seen category for `V Episode`, but, it was ranked the lowest. Yet, highly ranked `Star Wars` movie by females was the `III Episode`. This further strengthen the possibility of Gender to not effect the ranking of `Star Wars` movies."
   ]
  },
  {
   "cell_type": "code",
   "execution_count": 192,
   "metadata": {},
   "outputs": [
    {
     "data": {
      "text/plain": [
       "seen_1    0\n",
       "seen_2    0\n",
       "seen_3    0\n",
       "seen_4    0\n",
       "seen_5    0\n",
       "seen_6    0\n",
       "dtype: object"
      ]
     },
     "execution_count": 192,
     "metadata": {},
     "output_type": "execute_result"
    }
   ],
   "source": [
    "# by others category\n",
    "others[others.columns[3:9]].sum()"
   ]
  },
  {
   "cell_type": "code",
   "execution_count": 193,
   "metadata": {},
   "outputs": [
    {
     "data": {
      "text/plain": [
       "ranking_1   NaN\n",
       "ranking_2   NaN\n",
       "ranking_3   NaN\n",
       "ranking_4   NaN\n",
       "ranking_5   NaN\n",
       "ranking_6   NaN\n",
       "dtype: float64"
      ]
     },
     "execution_count": 193,
     "metadata": {},
     "output_type": "execute_result"
    }
   ],
   "source": [
    "others[others.columns[9:15]].mean()"
   ]
  },
  {
   "cell_type": "markdown",
   "metadata": {},
   "source": [
    "The others category was not relevant to see any patterns in their ranking, though."
   ]
  },
  {
   "cell_type": "markdown",
   "metadata": {},
   "source": [
    "# The Favorite Character in Star Wars<a id=\"fav\"></a>"
   ]
  },
  {
   "cell_type": "code",
   "execution_count": 194,
   "metadata": {},
   "outputs": [
    {
     "data": {
      "text/html": [
       "<div>\n",
       "<style scoped>\n",
       "    .dataframe tbody tr th:only-of-type {\n",
       "        vertical-align: middle;\n",
       "    }\n",
       "\n",
       "    .dataframe tbody tr th {\n",
       "        vertical-align: top;\n",
       "    }\n",
       "\n",
       "    .dataframe thead th {\n",
       "        text-align: right;\n",
       "    }\n",
       "</style>\n",
       "<table border=\"1\" class=\"dataframe\">\n",
       "  <thead>\n",
       "    <tr style=\"text-align: right;\">\n",
       "      <th></th>\n",
       "      <th>Please state whether you view the following characters favorably, unfavorably, or are unfamiliar with him/her.</th>\n",
       "      <th>Unnamed: 16</th>\n",
       "      <th>Unnamed: 17</th>\n",
       "      <th>Unnamed: 18</th>\n",
       "      <th>Unnamed: 19</th>\n",
       "      <th>Unnamed: 20</th>\n",
       "      <th>Unnamed: 21</th>\n",
       "      <th>Unnamed: 22</th>\n",
       "      <th>Unnamed: 23</th>\n",
       "      <th>Unnamed: 24</th>\n",
       "      <th>Unnamed: 25</th>\n",
       "      <th>Unnamed: 26</th>\n",
       "      <th>Unnamed: 27</th>\n",
       "      <th>Unnamed: 28</th>\n",
       "    </tr>\n",
       "  </thead>\n",
       "  <tbody>\n",
       "    <tr>\n",
       "      <th>0</th>\n",
       "      <td>Very favorably</td>\n",
       "      <td>Very favorably</td>\n",
       "      <td>Very favorably</td>\n",
       "      <td>Very favorably</td>\n",
       "      <td>Very favorably</td>\n",
       "      <td>Very favorably</td>\n",
       "      <td>Very favorably</td>\n",
       "      <td>Unfamiliar (N/A)</td>\n",
       "      <td>Unfamiliar (N/A)</td>\n",
       "      <td>Very favorably</td>\n",
       "      <td>Very favorably</td>\n",
       "      <td>Very favorably</td>\n",
       "      <td>Very favorably</td>\n",
       "      <td>Very favorably</td>\n",
       "    </tr>\n",
       "    <tr>\n",
       "      <th>1</th>\n",
       "      <td>NaN</td>\n",
       "      <td>NaN</td>\n",
       "      <td>NaN</td>\n",
       "      <td>NaN</td>\n",
       "      <td>NaN</td>\n",
       "      <td>NaN</td>\n",
       "      <td>NaN</td>\n",
       "      <td>NaN</td>\n",
       "      <td>NaN</td>\n",
       "      <td>NaN</td>\n",
       "      <td>NaN</td>\n",
       "      <td>NaN</td>\n",
       "      <td>NaN</td>\n",
       "      <td>NaN</td>\n",
       "    </tr>\n",
       "    <tr>\n",
       "      <th>2</th>\n",
       "      <td>Somewhat favorably</td>\n",
       "      <td>Somewhat favorably</td>\n",
       "      <td>Somewhat favorably</td>\n",
       "      <td>Somewhat favorably</td>\n",
       "      <td>Somewhat favorably</td>\n",
       "      <td>Unfamiliar (N/A)</td>\n",
       "      <td>Unfamiliar (N/A)</td>\n",
       "      <td>Unfamiliar (N/A)</td>\n",
       "      <td>Unfamiliar (N/A)</td>\n",
       "      <td>Unfamiliar (N/A)</td>\n",
       "      <td>Unfamiliar (N/A)</td>\n",
       "      <td>Unfamiliar (N/A)</td>\n",
       "      <td>Unfamiliar (N/A)</td>\n",
       "      <td>Unfamiliar (N/A)</td>\n",
       "    </tr>\n",
       "    <tr>\n",
       "      <th>3</th>\n",
       "      <td>Very favorably</td>\n",
       "      <td>Very favorably</td>\n",
       "      <td>Very favorably</td>\n",
       "      <td>Very favorably</td>\n",
       "      <td>Very favorably</td>\n",
       "      <td>Somewhat favorably</td>\n",
       "      <td>Very favorably</td>\n",
       "      <td>Somewhat favorably</td>\n",
       "      <td>Somewhat unfavorably</td>\n",
       "      <td>Very favorably</td>\n",
       "      <td>Very favorably</td>\n",
       "      <td>Very favorably</td>\n",
       "      <td>Very favorably</td>\n",
       "      <td>Very favorably</td>\n",
       "    </tr>\n",
       "    <tr>\n",
       "      <th>4</th>\n",
       "      <td>Very favorably</td>\n",
       "      <td>Somewhat favorably</td>\n",
       "      <td>Somewhat favorably</td>\n",
       "      <td>Somewhat unfavorably</td>\n",
       "      <td>Very favorably</td>\n",
       "      <td>Very unfavorably</td>\n",
       "      <td>Somewhat favorably</td>\n",
       "      <td>Neither favorably nor unfavorably (neutral)</td>\n",
       "      <td>Very favorably</td>\n",
       "      <td>Somewhat favorably</td>\n",
       "      <td>Somewhat favorably</td>\n",
       "      <td>Very unfavorably</td>\n",
       "      <td>Somewhat favorably</td>\n",
       "      <td>Somewhat favorably</td>\n",
       "    </tr>\n",
       "  </tbody>\n",
       "</table>\n",
       "</div>"
      ],
      "text/plain": [
       "  Please state whether you view the following characters favorably, unfavorably, or are unfamiliar with him/her.  \\\n",
       "0                                     Very favorably                                                               \n",
       "1                                                NaN                                                               \n",
       "2                                 Somewhat favorably                                                               \n",
       "3                                     Very favorably                                                               \n",
       "4                                     Very favorably                                                               \n",
       "\n",
       "          Unnamed: 16         Unnamed: 17           Unnamed: 18  \\\n",
       "0      Very favorably      Very favorably        Very favorably   \n",
       "1                 NaN                 NaN                   NaN   \n",
       "2  Somewhat favorably  Somewhat favorably    Somewhat favorably   \n",
       "3      Very favorably      Very favorably        Very favorably   \n",
       "4  Somewhat favorably  Somewhat favorably  Somewhat unfavorably   \n",
       "\n",
       "          Unnamed: 19         Unnamed: 20         Unnamed: 21  \\\n",
       "0      Very favorably      Very favorably      Very favorably   \n",
       "1                 NaN                 NaN                 NaN   \n",
       "2  Somewhat favorably    Unfamiliar (N/A)    Unfamiliar (N/A)   \n",
       "3      Very favorably  Somewhat favorably      Very favorably   \n",
       "4      Very favorably    Very unfavorably  Somewhat favorably   \n",
       "\n",
       "                                   Unnamed: 22           Unnamed: 23  \\\n",
       "0                             Unfamiliar (N/A)      Unfamiliar (N/A)   \n",
       "1                                          NaN                   NaN   \n",
       "2                             Unfamiliar (N/A)      Unfamiliar (N/A)   \n",
       "3                           Somewhat favorably  Somewhat unfavorably   \n",
       "4  Neither favorably nor unfavorably (neutral)        Very favorably   \n",
       "\n",
       "          Unnamed: 24         Unnamed: 25       Unnamed: 26  \\\n",
       "0      Very favorably      Very favorably    Very favorably   \n",
       "1                 NaN                 NaN               NaN   \n",
       "2    Unfamiliar (N/A)    Unfamiliar (N/A)  Unfamiliar (N/A)   \n",
       "3      Very favorably      Very favorably    Very favorably   \n",
       "4  Somewhat favorably  Somewhat favorably  Very unfavorably   \n",
       "\n",
       "          Unnamed: 27         Unnamed: 28  \n",
       "0      Very favorably      Very favorably  \n",
       "1                 NaN                 NaN  \n",
       "2    Unfamiliar (N/A)    Unfamiliar (N/A)  \n",
       "3      Very favorably      Very favorably  \n",
       "4  Somewhat favorably  Somewhat favorably  "
      ]
     },
     "execution_count": 194,
     "metadata": {},
     "output_type": "execute_result"
    }
   ],
   "source": [
    "star_wars[star_wars.columns[15:29]].head()"
   ]
  },
  {
   "cell_type": "markdown",
   "metadata": {},
   "source": [
    "From the 15 column to 28, the columns are unnamed, but, we know that this is a Characters favorability ratings based on the [America’s Favorite ‘Star Wars’ Movies (And Least Favorite Characters)](https://fivethirtyeight.com/features/americas-favorite-star-wars-movies-and-least-favorite-characters/) blog.\n",
    "We will rename the columns as follows respectively from 15 to 28 `Unnamed_n` columns.\n",
    " \n",
    "- **Luke Skywalker**\n",
    "- **Han Solo**\n",
    "- **Princess Leia Organa**\n",
    "- **Obi Wan Kenobi**\n",
    "- **Yoda**\n",
    "- **R2-D2**\n",
    "- **C-3P0**\n",
    "- **Anakin Skywalker**\n",
    "- **Darth Vader**\n",
    "- **Lando Calrissian**\n",
    "- **Padme Amidala**\n",
    "- **Boba Fett**\n",
    "- **Emperor Palpatine**\n",
    "- **Jar Jar Binks**"
   ]
  },
  {
   "cell_type": "code",
   "execution_count": 195,
   "metadata": {},
   "outputs": [
    {
     "data": {
      "text/html": [
       "<div>\n",
       "<style scoped>\n",
       "    .dataframe tbody tr th:only-of-type {\n",
       "        vertical-align: middle;\n",
       "    }\n",
       "\n",
       "    .dataframe tbody tr th {\n",
       "        vertical-align: top;\n",
       "    }\n",
       "\n",
       "    .dataframe thead th {\n",
       "        text-align: right;\n",
       "    }\n",
       "</style>\n",
       "<table border=\"1\" class=\"dataframe\">\n",
       "  <thead>\n",
       "    <tr style=\"text-align: right;\">\n",
       "      <th></th>\n",
       "      <th>Luke Skywalker</th>\n",
       "      <th>Han Solo</th>\n",
       "      <th>Princess Leia Organa</th>\n",
       "      <th>Obi Wan Kenobi</th>\n",
       "      <th>Yoda</th>\n",
       "      <th>R2-D2</th>\n",
       "      <th>C-3P0</th>\n",
       "      <th>Anakin Skywalker</th>\n",
       "      <th>Darth Vader</th>\n",
       "      <th>Lando Calrissian</th>\n",
       "      <th>Padme Amidala</th>\n",
       "      <th>Boba Fett</th>\n",
       "      <th>Emperor Palpatine</th>\n",
       "      <th>Jar Jar Binks</th>\n",
       "    </tr>\n",
       "  </thead>\n",
       "  <tbody>\n",
       "    <tr>\n",
       "      <th>0</th>\n",
       "      <td>Very favorably</td>\n",
       "      <td>Very favorably</td>\n",
       "      <td>Very favorably</td>\n",
       "      <td>Very favorably</td>\n",
       "      <td>Very favorably</td>\n",
       "      <td>Very favorably</td>\n",
       "      <td>Very favorably</td>\n",
       "      <td>Unfamiliar (N/A)</td>\n",
       "      <td>Unfamiliar (N/A)</td>\n",
       "      <td>Very favorably</td>\n",
       "      <td>Very favorably</td>\n",
       "      <td>Very favorably</td>\n",
       "      <td>Very favorably</td>\n",
       "      <td>Very favorably</td>\n",
       "    </tr>\n",
       "    <tr>\n",
       "      <th>1</th>\n",
       "      <td>NaN</td>\n",
       "      <td>NaN</td>\n",
       "      <td>NaN</td>\n",
       "      <td>NaN</td>\n",
       "      <td>NaN</td>\n",
       "      <td>NaN</td>\n",
       "      <td>NaN</td>\n",
       "      <td>NaN</td>\n",
       "      <td>NaN</td>\n",
       "      <td>NaN</td>\n",
       "      <td>NaN</td>\n",
       "      <td>NaN</td>\n",
       "      <td>NaN</td>\n",
       "      <td>NaN</td>\n",
       "    </tr>\n",
       "    <tr>\n",
       "      <th>2</th>\n",
       "      <td>Somewhat favorably</td>\n",
       "      <td>Somewhat favorably</td>\n",
       "      <td>Somewhat favorably</td>\n",
       "      <td>Somewhat favorably</td>\n",
       "      <td>Somewhat favorably</td>\n",
       "      <td>Unfamiliar (N/A)</td>\n",
       "      <td>Unfamiliar (N/A)</td>\n",
       "      <td>Unfamiliar (N/A)</td>\n",
       "      <td>Unfamiliar (N/A)</td>\n",
       "      <td>Unfamiliar (N/A)</td>\n",
       "      <td>Unfamiliar (N/A)</td>\n",
       "      <td>Unfamiliar (N/A)</td>\n",
       "      <td>Unfamiliar (N/A)</td>\n",
       "      <td>Unfamiliar (N/A)</td>\n",
       "    </tr>\n",
       "  </tbody>\n",
       "</table>\n",
       "</div>"
      ],
      "text/plain": [
       "       Luke Skywalker            Han Solo Princess Leia Organa  \\\n",
       "0      Very favorably      Very favorably       Very favorably   \n",
       "1                 NaN                 NaN                  NaN   \n",
       "2  Somewhat favorably  Somewhat favorably   Somewhat favorably   \n",
       "\n",
       "       Obi Wan Kenobi                Yoda             R2-D2             C-3P0  \\\n",
       "0      Very favorably      Very favorably    Very favorably    Very favorably   \n",
       "1                 NaN                 NaN               NaN               NaN   \n",
       "2  Somewhat favorably  Somewhat favorably  Unfamiliar (N/A)  Unfamiliar (N/A)   \n",
       "\n",
       "   Anakin Skywalker       Darth Vader  Lando Calrissian     Padme Amidala  \\\n",
       "0  Unfamiliar (N/A)  Unfamiliar (N/A)    Very favorably    Very favorably   \n",
       "1               NaN               NaN               NaN               NaN   \n",
       "2  Unfamiliar (N/A)  Unfamiliar (N/A)  Unfamiliar (N/A)  Unfamiliar (N/A)   \n",
       "\n",
       "          Boba Fett Emperor Palpatine     Jar Jar Binks  \n",
       "0    Very favorably    Very favorably    Very favorably  \n",
       "1               NaN               NaN               NaN  \n",
       "2  Unfamiliar (N/A)  Unfamiliar (N/A)  Unfamiliar (N/A)  "
      ]
     },
     "execution_count": 195,
     "metadata": {},
     "output_type": "execute_result"
    }
   ],
   "source": [
    "map_characters = {\n",
    "    star_wars.columns[15] : 'Luke Skywalker',\n",
    "    star_wars.columns[16] : 'Han Solo',\n",
    "    star_wars.columns[17] : 'Princess Leia Organa',\n",
    "    star_wars.columns[18] : 'Obi Wan Kenobi',\n",
    "    star_wars.columns[19] : 'Yoda',\n",
    "    star_wars.columns[20] : 'R2-D2',\n",
    "    star_wars.columns[21] : 'C-3P0',\n",
    "    star_wars.columns[22] : 'Anakin Skywalker',\n",
    "    star_wars.columns[23] : 'Darth Vader',\n",
    "    star_wars.columns[24] : 'Lando Calrissian',\n",
    "    star_wars.columns[25] : 'Padme Amidala',\n",
    "    star_wars.columns[26] : 'Boba Fett',\n",
    "    star_wars.columns[27] : 'Emperor Palpatine',\n",
    "    star_wars.columns[28] : 'Jar Jar Binks'\n",
    "                }\n",
    "\n",
    "star_wars = star_wars.rename(columns= map_characters)\n",
    "star_wars.iloc[:, 15:29].head(3)"
   ]
  },
  {
   "cell_type": "code",
   "execution_count": 196,
   "metadata": {},
   "outputs": [
    {
     "name": "stdout",
     "output_type": "stream",
     "text": [
      "Luke Skywalker\n",
      "Very favorably                                 0.735826\n",
      "Somewhat favorably                             0.182147\n",
      "Neither favorably nor unfavorably (neutral)    0.053076\n",
      "Unfamiliar (N/A)                               0.018094\n",
      "Somewhat unfavorably                           0.009650\n",
      "Very unfavorably                               0.001206\n",
      "Name: proportion, dtype: float64\n",
      "=============================================\n",
      "Han Solo\n",
      "Very favorably                                 0.664260\n",
      "Somewhat favorably                             0.263538\n",
      "Neither favorably nor unfavorably (neutral)    0.045728\n",
      "Somewhat unfavorably                           0.015644\n",
      "Unfamiliar (N/A)                               0.007220\n",
      "Very unfavorably                               0.003610\n",
      "Name: proportion, dtype: float64\n",
      "=============================================\n",
      "Princess Leia Organa\n",
      "Very favorably                                 0.658243\n",
      "Somewhat favorably                             0.252708\n",
      "Neither favorably nor unfavorably (neutral)    0.057762\n",
      "Somewhat unfavorably                           0.014440\n",
      "Unfamiliar (N/A)                               0.009627\n",
      "Very unfavorably                               0.007220\n",
      "Name: proportion, dtype: float64\n",
      "=============================================\n",
      "Obi Wan Kenobi\n",
      "Somewhat favorably                             0.326853\n",
      "Very favorably                                 0.297691\n",
      "Neither favorably nor unfavorably (neutral)    0.164034\n",
      "Somewhat unfavorably                           0.100851\n",
      "Unfamiliar (N/A)                               0.063183\n",
      "Very unfavorably                               0.047388\n",
      "Name: proportion, dtype: float64\n",
      "=============================================\n",
      "Yoda\n",
      "Very favorably                                 0.716364\n",
      "Somewhat favorably                             0.192727\n",
      "Neither favorably nor unfavorably (neutral)    0.052121\n",
      "Unfamiliar (N/A)                               0.020606\n",
      "Somewhat unfavorably                           0.009697\n",
      "Very unfavorably                               0.008485\n",
      "Name: proportion, dtype: float64\n",
      "=============================================\n",
      "R2-D2\n",
      "Neither favorably nor unfavorably (neutral)    0.261671\n",
      "Unfamiliar (N/A)                               0.191646\n",
      "Somewhat favorably                             0.175676\n",
      "Very unfavorably                               0.152334\n",
      "Very favorably                                 0.135135\n",
      "Somewhat unfavorably                           0.083538\n",
      "Name: proportion, dtype: float64\n",
      "=============================================\n",
      "C-3P0\n",
      "Very favorably                                 0.375303\n",
      "Somewhat favorably                             0.207022\n",
      "Very unfavorably                               0.180387\n",
      "Somewhat unfavorably                           0.123487\n",
      "Neither favorably nor unfavorably (neutral)    0.101695\n",
      "Unfamiliar (N/A)                               0.012107\n",
      "Name: proportion, dtype: float64\n",
      "=============================================\n",
      "Anakin Skywalker\n",
      "Neither favorably nor unfavorably (neutral)    0.287805\n",
      "Somewhat favorably                             0.271951\n",
      "Unfamiliar (N/A)                               0.180488\n",
      "Very favorably                                 0.173171\n",
      "Somewhat unfavorably                           0.076829\n",
      "Very unfavorably                               0.009756\n",
      "Name: proportion, dtype: float64\n",
      "=============================================\n",
      "Darth Vader\n",
      "Neither favorably nor unfavorably (neutral)    0.305419\n",
      "Somewhat favorably                             0.188424\n",
      "Very favorably                                 0.169951\n",
      "Unfamiliar (N/A)                               0.162562\n",
      "Somewhat unfavorably                           0.118227\n",
      "Very unfavorably                               0.055419\n",
      "Name: proportion, dtype: float64\n",
      "=============================================\n",
      "Lando Calrissian\n",
      "Very favorably                                 0.573156\n",
      "Somewhat favorably                             0.276904\n",
      "Neither favorably nor unfavorably (neutral)    0.095526\n",
      "Somewhat unfavorably                           0.027811\n",
      "Unfamiliar (N/A)                               0.018138\n",
      "Very unfavorably                               0.008464\n",
      "Name: proportion, dtype: float64\n",
      "=============================================\n",
      "Padme Amidala\n",
      "Very favorably                                 0.677108\n",
      "Somewhat favorably                             0.222892\n",
      "Neither favorably nor unfavorably (neutral)    0.068675\n",
      "Unfamiliar (N/A)                               0.012048\n",
      "Somewhat unfavorably                           0.012048\n",
      "Very unfavorably                               0.007229\n",
      "Name: proportion, dtype: float64\n",
      "=============================================\n",
      "Boba Fett\n",
      "Very unfavorably                               0.248477\n",
      "Neither favorably nor unfavorably (neutral)    0.199756\n",
      "Somewhat favorably                             0.158343\n",
      "Very favorably                                 0.136419\n",
      "Unfamiliar (N/A)                               0.132765\n",
      "Somewhat unfavorably                           0.124239\n",
      "Name: proportion, dtype: float64\n",
      "=============================================\n",
      "Emperor Palpatine\n",
      "Neither favorably nor unfavorably (neutral)    0.254300\n",
      "Somewhat favorably                             0.224816\n",
      "Very favorably                                 0.206388\n",
      "Unfamiliar (N/A)                               0.201474\n",
      "Somewhat unfavorably                           0.071253\n",
      "Very unfavorably                               0.041769\n",
      "Name: proportion, dtype: float64\n",
      "=============================================\n",
      "Jar Jar Binks\n",
      "Very favorably                                 0.732446\n",
      "Somewhat favorably                             0.174334\n",
      "Neither favorably nor unfavorably (neutral)    0.061743\n",
      "Unfamiliar (N/A)                               0.012107\n",
      "Very unfavorably                               0.009685\n",
      "Somewhat unfavorably                           0.009685\n",
      "Name: proportion, dtype: float64\n",
      "=============================================\n"
     ]
    }
   ],
   "source": [
    "characters = star_wars[star_wars.columns[15:29]]\n",
    "\n",
    "for col in characters.columns:\n",
    "    print(characters[col].value_counts(normalize=True))\n",
    "#     in proportionate form\n",
    "    print('==='*15)"
   ]
  },
  {
   "cell_type": "code",
   "execution_count": 197,
   "metadata": {},
   "outputs": [],
   "source": [
    "# the value above is copied to create a dicionary with the help of AI\n",
    "\n",
    "data = {\n",
    "    'Luke Skywalker': {\n",
    "        'Very favorably': 0.735826,\n",
    "        'Somewhat favorably': 0.182147,\n",
    "        'Neither favorably nor unfavorably (neutral)': 0.053076,\n",
    "        'Unfamiliar (N/A)': 0.018094,\n",
    "        'Somewhat unfavorably': 0.009650,\n",
    "        'Very unfavorably': 0.001206\n",
    "    },\n",
    "    'Han Solo': {\n",
    "        'Very favorably': 0.664260,\n",
    "        'Somewhat favorably': 0.263538,\n",
    "        'Neither favorably nor unfavorably (neutral)': 0.045728,\n",
    "        'Somewhat unfavorably': 0.015644,\n",
    "        'Unfamiliar (N/A)': 0.007220,\n",
    "        'Very unfavorably': 0.003610\n",
    "    },\n",
    "    'Princess Leia Organa': {\n",
    "        'Very favorably': 0.658243,\n",
    "        'Somewhat favorably': 0.252708,\n",
    "        'Neither favorably nor unfavorably (neutral)': 0.057762,\n",
    "        'Somewhat unfavorably': 0.014440,\n",
    "        'Unfamiliar (N/A)': 0.009627,\n",
    "        'Very unfavorably': 0.007220\n",
    "    },\n",
    "    'Obi Wan Kenobi': {\n",
    "        'Somewhat favorably': 0.326853,\n",
    "        'Very favorably': 0.297691,\n",
    "        'Neither favorably nor unfavorably (neutral)': 0.164034,\n",
    "        'Somewhat unfavorably': 0.100851,\n",
    "        'Unfamiliar (N/A)': 0.063183,\n",
    "        'Very unfavorably': 0.047388\n",
    "    },\n",
    "    'Yoda': {\n",
    "        'Very favorably': 0.716364,\n",
    "        'Somewhat favorably': 0.192727,\n",
    "        'Neither favorably nor unfavorably (neutral)': 0.052121,\n",
    "        'Unfamiliar (N/A)': 0.020606,\n",
    "        'Somewhat unfavorably': 0.009697,\n",
    "        'Very unfavorably': 0.008485\n",
    "    },\n",
    "    'R2-D2': {\n",
    "        'Neither favorably nor unfavorably (neutral)': 0.261671,\n",
    "        'Unfamiliar (N/A)': 0.191646,\n",
    "        'Somewhat favorably': 0.175676,\n",
    "        'Very unfavorably': 0.152334,\n",
    "        'Very favorably': 0.135135,\n",
    "        'Somewhat unfavorably': 0.083538\n",
    "    },\n",
    "    'C-3P0': {\n",
    "        'Very favorably': 0.375303,\n",
    "        'Somewhat favorably': 0.207022,\n",
    "        'Very unfavorably': 0.180387,\n",
    "        'Somewhat unfavorably': 0.123487,\n",
    "        'Neither favorably nor unfavorably (neutral)': 0.101695,\n",
    "        'Unfamiliar (N/A)': 0.012107\n",
    "    },\n",
    "    'Anakin Skywalker': {\n",
    "        'Neither favorably nor unfavorably (neutral)': 0.287805,\n",
    "        'Somewhat favorably': 0.271951,\n",
    "        'Unfamiliar (N/A)': 0.180488,\n",
    "        'Very favorably': 0.173171,\n",
    "        'Somewhat unfavorably': 0.076829,\n",
    "        'Very unfavorably': 0.009756\n",
    "    },\n",
    "    'Darth Vader': {\n",
    "        'Neither favorably nor unfavorably (neutral)': 0.305419,\n",
    "        'Somewhat favorably': 0.188424,\n",
    "        'Very favorably': 0.169951,\n",
    "        'Unfamiliar (N/A)': 0.162562,\n",
    "        'Somewhat unfavorably': 0.118227,\n",
    "        'Very unfavorably': 0.055419\n",
    "    },\n",
    "    'Lando Calrissian': {\n",
    "        'Very favorably': 0.573156,\n",
    "        'Somewhat favorably': 0.276904,\n",
    "        'Neither favorably nor unfavorably (neutral)': 0.095526,\n",
    "        'Somewhat unfavorably': 0.027811,\n",
    "        'Unfamiliar (N/A)': 0.018138,\n",
    "        'Very unfavorably': 0.008464\n",
    "    },\n",
    "    'Padme Amidala': {\n",
    "        'Very favorably': 0.677108,\n",
    "        'Somewhat favorably': 0.222892,\n",
    "        'Neither favorably nor unfavorably (neutral)': 0.068675,\n",
    "        'Unfamiliar (N/A)': 0.012048,\n",
    "        'Somewhat unfavorably': 0.012048,\n",
    "        'Very unfavorably': 0.007229\n",
    "    },\n",
    "    'Boba Fett': {\n",
    "        'Very unfavorably': 0.248477,\n",
    "        'Neither favorably nor unfavorably (neutral)': 0.199756,\n",
    "        'Somewhat favorably': 0.158343,\n",
    "        'Very favorably': 0.136419,\n",
    "        'Unfamiliar (N/A)': 0.132765,\n",
    "        'Somewhat unfavorably': 0.124239\n",
    "    },\n",
    "    'Emperor Palpatine': {\n",
    "        'Neither favorably nor unfavorably (neutral)': 0.254300,\n",
    "        'Somewhat favorably': 0.224816,\n",
    "        'Very favorably': 0.206388,\n",
    "        'Unfamiliar (N/A)': 0.201474,\n",
    "        'Somewhat unfavorably': 0.071253,\n",
    "        'Very unfavorably': 0.041769\n",
    "    },\n",
    "    'Jar Jar Binks': {\n",
    "        'Very favorably': 0.732446,\n",
    "        'Somewhat favorably': 0.174334,\n",
    "        'Neither favorably nor unfavorably (neutral)': 0.061743,\n",
    "        'Unfamiliar (N/A)': 0.012107,\n",
    "        'Very unfavorably': 0.009685,\n",
    "        'Somewhat unfavorably': 0.009685\n",
    "    }\n",
    "}"
   ]
  },
  {
   "cell_type": "code",
   "execution_count": 198,
   "metadata": {},
   "outputs": [
    {
     "data": {
      "text/html": [
       "<div>\n",
       "<style scoped>\n",
       "    .dataframe tbody tr th:only-of-type {\n",
       "        vertical-align: middle;\n",
       "    }\n",
       "\n",
       "    .dataframe tbody tr th {\n",
       "        vertical-align: top;\n",
       "    }\n",
       "\n",
       "    .dataframe thead th {\n",
       "        text-align: right;\n",
       "    }\n",
       "</style>\n",
       "<table border=\"1\" class=\"dataframe\">\n",
       "  <thead>\n",
       "    <tr style=\"text-align: right;\">\n",
       "      <th></th>\n",
       "      <th>Luke Skywalker</th>\n",
       "      <th>Han Solo</th>\n",
       "      <th>Princess Leia Organa</th>\n",
       "      <th>Obi Wan Kenobi</th>\n",
       "      <th>Yoda</th>\n",
       "      <th>R2-D2</th>\n",
       "      <th>C-3P0</th>\n",
       "      <th>Anakin Skywalker</th>\n",
       "      <th>Darth Vader</th>\n",
       "      <th>Lando Calrissian</th>\n",
       "      <th>Padme Amidala</th>\n",
       "      <th>Boba Fett</th>\n",
       "      <th>Emperor Palpatine</th>\n",
       "      <th>Jar Jar Binks</th>\n",
       "    </tr>\n",
       "  </thead>\n",
       "  <tbody>\n",
       "    <tr>\n",
       "      <th>Very favorably</th>\n",
       "      <td>73.6</td>\n",
       "      <td>66.4</td>\n",
       "      <td>65.8</td>\n",
       "      <td>29.8</td>\n",
       "      <td>71.6</td>\n",
       "      <td>13.5</td>\n",
       "      <td>37.5</td>\n",
       "      <td>17.3</td>\n",
       "      <td>17.0</td>\n",
       "      <td>57.3</td>\n",
       "      <td>67.7</td>\n",
       "      <td>13.6</td>\n",
       "      <td>20.6</td>\n",
       "      <td>73.2</td>\n",
       "    </tr>\n",
       "    <tr>\n",
       "      <th>Somewhat favorably</th>\n",
       "      <td>18.2</td>\n",
       "      <td>26.4</td>\n",
       "      <td>25.3</td>\n",
       "      <td>32.7</td>\n",
       "      <td>19.3</td>\n",
       "      <td>17.6</td>\n",
       "      <td>20.7</td>\n",
       "      <td>27.2</td>\n",
       "      <td>18.8</td>\n",
       "      <td>27.7</td>\n",
       "      <td>22.3</td>\n",
       "      <td>15.8</td>\n",
       "      <td>22.5</td>\n",
       "      <td>17.4</td>\n",
       "    </tr>\n",
       "    <tr>\n",
       "      <th>Neither favorably nor unfavorably (neutral)</th>\n",
       "      <td>5.3</td>\n",
       "      <td>4.6</td>\n",
       "      <td>5.8</td>\n",
       "      <td>16.4</td>\n",
       "      <td>5.2</td>\n",
       "      <td>26.2</td>\n",
       "      <td>10.2</td>\n",
       "      <td>28.8</td>\n",
       "      <td>30.5</td>\n",
       "      <td>9.6</td>\n",
       "      <td>6.9</td>\n",
       "      <td>20.0</td>\n",
       "      <td>25.4</td>\n",
       "      <td>6.2</td>\n",
       "    </tr>\n",
       "    <tr>\n",
       "      <th>Unfamiliar (N/A)</th>\n",
       "      <td>1.8</td>\n",
       "      <td>0.7</td>\n",
       "      <td>1.0</td>\n",
       "      <td>6.3</td>\n",
       "      <td>2.1</td>\n",
       "      <td>19.2</td>\n",
       "      <td>1.2</td>\n",
       "      <td>18.0</td>\n",
       "      <td>16.3</td>\n",
       "      <td>1.8</td>\n",
       "      <td>1.2</td>\n",
       "      <td>13.3</td>\n",
       "      <td>20.1</td>\n",
       "      <td>1.2</td>\n",
       "    </tr>\n",
       "    <tr>\n",
       "      <th>Somewhat unfavorably</th>\n",
       "      <td>1.0</td>\n",
       "      <td>1.6</td>\n",
       "      <td>1.4</td>\n",
       "      <td>10.1</td>\n",
       "      <td>1.0</td>\n",
       "      <td>8.4</td>\n",
       "      <td>12.3</td>\n",
       "      <td>7.7</td>\n",
       "      <td>11.8</td>\n",
       "      <td>2.8</td>\n",
       "      <td>1.2</td>\n",
       "      <td>12.4</td>\n",
       "      <td>7.1</td>\n",
       "      <td>1.0</td>\n",
       "    </tr>\n",
       "    <tr>\n",
       "      <th>Very unfavorably</th>\n",
       "      <td>0.1</td>\n",
       "      <td>0.4</td>\n",
       "      <td>0.7</td>\n",
       "      <td>4.7</td>\n",
       "      <td>0.8</td>\n",
       "      <td>15.2</td>\n",
       "      <td>18.0</td>\n",
       "      <td>1.0</td>\n",
       "      <td>5.5</td>\n",
       "      <td>0.8</td>\n",
       "      <td>0.7</td>\n",
       "      <td>24.8</td>\n",
       "      <td>4.2</td>\n",
       "      <td>1.0</td>\n",
       "    </tr>\n",
       "  </tbody>\n",
       "</table>\n",
       "</div>"
      ],
      "text/plain": [
       "                                             Luke Skywalker  Han Solo  \\\n",
       "Very favorably                                         73.6      66.4   \n",
       "Somewhat favorably                                     18.2      26.4   \n",
       "Neither favorably nor unfavorably (neutral)             5.3       4.6   \n",
       "Unfamiliar (N/A)                                        1.8       0.7   \n",
       "Somewhat unfavorably                                    1.0       1.6   \n",
       "Very unfavorably                                        0.1       0.4   \n",
       "\n",
       "                                             Princess Leia Organa  \\\n",
       "Very favorably                                               65.8   \n",
       "Somewhat favorably                                           25.3   \n",
       "Neither favorably nor unfavorably (neutral)                   5.8   \n",
       "Unfamiliar (N/A)                                              1.0   \n",
       "Somewhat unfavorably                                          1.4   \n",
       "Very unfavorably                                              0.7   \n",
       "\n",
       "                                             Obi Wan Kenobi  Yoda  R2-D2  \\\n",
       "Very favorably                                         29.8  71.6   13.5   \n",
       "Somewhat favorably                                     32.7  19.3   17.6   \n",
       "Neither favorably nor unfavorably (neutral)            16.4   5.2   26.2   \n",
       "Unfamiliar (N/A)                                        6.3   2.1   19.2   \n",
       "Somewhat unfavorably                                   10.1   1.0    8.4   \n",
       "Very unfavorably                                        4.7   0.8   15.2   \n",
       "\n",
       "                                             C-3P0  Anakin Skywalker  \\\n",
       "Very favorably                                37.5              17.3   \n",
       "Somewhat favorably                            20.7              27.2   \n",
       "Neither favorably nor unfavorably (neutral)   10.2              28.8   \n",
       "Unfamiliar (N/A)                               1.2              18.0   \n",
       "Somewhat unfavorably                          12.3               7.7   \n",
       "Very unfavorably                              18.0               1.0   \n",
       "\n",
       "                                             Darth Vader  Lando Calrissian  \\\n",
       "Very favorably                                      17.0              57.3   \n",
       "Somewhat favorably                                  18.8              27.7   \n",
       "Neither favorably nor unfavorably (neutral)         30.5               9.6   \n",
       "Unfamiliar (N/A)                                    16.3               1.8   \n",
       "Somewhat unfavorably                                11.8               2.8   \n",
       "Very unfavorably                                     5.5               0.8   \n",
       "\n",
       "                                             Padme Amidala  Boba Fett  \\\n",
       "Very favorably                                        67.7       13.6   \n",
       "Somewhat favorably                                    22.3       15.8   \n",
       "Neither favorably nor unfavorably (neutral)            6.9       20.0   \n",
       "Unfamiliar (N/A)                                       1.2       13.3   \n",
       "Somewhat unfavorably                                   1.2       12.4   \n",
       "Very unfavorably                                       0.7       24.8   \n",
       "\n",
       "                                             Emperor Palpatine  Jar Jar Binks  \n",
       "Very favorably                                            20.6           73.2  \n",
       "Somewhat favorably                                        22.5           17.4  \n",
       "Neither favorably nor unfavorably (neutral)               25.4            6.2  \n",
       "Unfamiliar (N/A)                                          20.1            1.2  \n",
       "Somewhat unfavorably                                       7.1            1.0  \n",
       "Very unfavorably                                           4.2            1.0  "
      ]
     },
     "execution_count": 198,
     "metadata": {},
     "output_type": "execute_result"
    }
   ],
   "source": [
    "df_char = pd.DataFrame(data)\n",
    "\n",
    "df_char = round(df_char*100, 1)\n",
    "# converting every value into percentage form\n",
    "# and round off to 1 decimal point\n",
    "\n",
    "df_char"
   ]
  },
  {
   "cell_type": "markdown",
   "metadata": {},
   "source": [
    "We will create only 1 `favorable`, 1 `unfavorable`, 1 `Neutral` Labels."
   ]
  },
  {
   "cell_type": "code",
   "execution_count": 199,
   "metadata": {},
   "outputs": [
    {
     "data": {
      "text/plain": [
       "Luke Skywalker          91.8\n",
       "Han Solo                92.8\n",
       "Princess Leia Organa    91.1\n",
       "Obi Wan Kenobi          62.5\n",
       "Yoda                    90.9\n",
       "R2-D2                   31.1\n",
       "C-3P0                   58.2\n",
       "Anakin Skywalker        44.5\n",
       "Darth Vader             35.8\n",
       "Lando Calrissian        85.0\n",
       "Padme Amidala           90.0\n",
       "Boba Fett               29.4\n",
       "Emperor Palpatine       43.1\n",
       "Jar Jar Binks           90.6\n",
       "Name: favorable, dtype: float64"
      ]
     },
     "execution_count": 199,
     "metadata": {},
     "output_type": "execute_result"
    }
   ],
   "source": [
    "df_char.loc['favorable'] = df_char.iloc[0,:] + df_char.iloc[1,:]\n",
    "df_char.loc['favorable']\n",
    "# favorable row is the sum of the row 0 and row 1"
   ]
  },
  {
   "cell_type": "code",
   "execution_count": 200,
   "metadata": {},
   "outputs": [
    {
     "data": {
      "text/plain": [
       "Luke Skywalker           7.1\n",
       "Han Solo                 5.3\n",
       "Princess Leia Organa     6.8\n",
       "Obi Wan Kenobi          22.7\n",
       "Yoda                     7.3\n",
       "R2-D2                   45.4\n",
       "C-3P0                   11.4\n",
       "Anakin Skywalker        46.8\n",
       "Darth Vader             46.8\n",
       "Lando Calrissian        11.4\n",
       "Padme Amidala            8.1\n",
       "Boba Fett               33.3\n",
       "Emperor Palpatine       45.5\n",
       "Jar Jar Binks            7.4\n",
       "Name: neutral, dtype: float64"
      ]
     },
     "execution_count": 200,
     "metadata": {},
     "output_type": "execute_result"
    }
   ],
   "source": [
    "df_char.loc['neutral'] = df_char.iloc[2,:] + df_char.iloc[3,:]\n",
    "df_char.loc['neutral']\n",
    "# neutral label created"
   ]
  },
  {
   "cell_type": "code",
   "execution_count": 201,
   "metadata": {},
   "outputs": [
    {
     "data": {
      "text/plain": [
       "Luke Skywalker           1.1\n",
       "Han Solo                 2.0\n",
       "Princess Leia Organa     2.1\n",
       "Obi Wan Kenobi          14.8\n",
       "Yoda                     1.8\n",
       "R2-D2                   23.6\n",
       "C-3P0                   30.3\n",
       "Anakin Skywalker         8.7\n",
       "Darth Vader             17.3\n",
       "Lando Calrissian         3.6\n",
       "Padme Amidala            1.9\n",
       "Boba Fett               37.2\n",
       "Emperor Palpatine       11.3\n",
       "Jar Jar Binks            2.0\n",
       "Name: unfavorable, dtype: float64"
      ]
     },
     "execution_count": 201,
     "metadata": {},
     "output_type": "execute_result"
    }
   ],
   "source": [
    "df_char.loc['unfavorable'] = df_char.iloc[4,:] + df_char.iloc[5,:]\n",
    "df_char.loc['unfavorable']"
   ]
  },
  {
   "cell_type": "markdown",
   "metadata": {},
   "source": [
    "We shall only use `favorable`, `neutral`, and `unfavorable` lables and all the columns to visualize data now."
   ]
  },
  {
   "cell_type": "code",
   "execution_count": 202,
   "metadata": {},
   "outputs": [
    {
     "name": "stdout",
     "output_type": "stream",
     "text": [
      "<class 'pandas.core.frame.DataFrame'>\n",
      "Index: 9 entries, Very favorably to unfavorable\n",
      "Data columns (total 14 columns):\n",
      " #   Column                Non-Null Count  Dtype  \n",
      "---  ------                --------------  -----  \n",
      " 0   Luke Skywalker        9 non-null      float64\n",
      " 1   Han Solo              9 non-null      float64\n",
      " 2   Princess Leia Organa  9 non-null      float64\n",
      " 3   Obi Wan Kenobi        9 non-null      float64\n",
      " 4   Yoda                  9 non-null      float64\n",
      " 5   R2-D2                 9 non-null      float64\n",
      " 6   C-3P0                 9 non-null      float64\n",
      " 7   Anakin Skywalker      9 non-null      float64\n",
      " 8   Darth Vader           9 non-null      float64\n",
      " 9   Lando Calrissian      9 non-null      float64\n",
      " 10  Padme Amidala         9 non-null      float64\n",
      " 11  Boba Fett             9 non-null      float64\n",
      " 12  Emperor Palpatine     9 non-null      float64\n",
      " 13  Jar Jar Binks         9 non-null      float64\n",
      "dtypes: float64(14)\n",
      "memory usage: 1.3+ KB\n"
     ]
    }
   ],
   "source": [
    "df_char.info()"
   ]
  },
  {
   "cell_type": "code",
   "execution_count": 203,
   "metadata": {},
   "outputs": [
    {
     "data": {
      "text/plain": [
       "Text(0.5, 1.0, 'Characters preference')"
      ]
     },
     "execution_count": 203,
     "metadata": {},
     "output_type": "execute_result"
    },
    {
     "data": {
      "image/png": "[encoded data removed]",
      "text/plain": [
       "<Figure size 640x480 with 1 Axes>"
      ]
     },
     "metadata": {},
     "output_type": "display_data"
    }
   ],
   "source": [
    "df_char.iloc[6:9,:].plot.bar()\n",
    "\n",
    "# df_char.iloc[6:9,:].plot.bar(subplots=True, rot=0)\n",
    "plt.xticks(rotation=45)\n",
    "plt.legend(loc='upper right', bbox_to_anchor=(1.4, 1))\n",
    "plt.ylabel('Percentage')\n",
    "plt.xlabel('Preference')\n",
    "\n",
    "plt.title('Characters preference')\n",
    "# plt.show()"
   ]
  },
  {
   "cell_type": "markdown",
   "metadata": {
    "tags": []
   },
   "source": [
    "The favorability is highest for `Han Solo`, and the most unfavorable character is `Boba Fett`.\n",
    "Yet, `Boba Fett` might be a controversial character after all, more than  35% still finds the character favorable, while almost 40% finds the character unfavorable. however, more than 35% sill showed nutral preference for the character."
   ]
  },
  {
   "cell_type": "code",
   "execution_count": null,
   "metadata": {},
   "outputs": [],
   "source": []
  }
 ],
 "metadata": {
  "kernelspec": {
   "display_name": "Python 3 (ipykernel)",
   "language": "python",
   "name": "python3"
  },
  "language_info": {
   "codemirror_mode": {
    "name": "ipython",
    "version": 3
   },
   "file_extension": ".py",
   "mimetype": "text/x-python",
   "name": "python",
   "nbconvert_exporter": "python",
   "pygments_lexer": "ipython3",
   "version": "3.11.0rc1"
  }
 },
 "nbformat": 4,
 "nbformat_minor": 4
}
